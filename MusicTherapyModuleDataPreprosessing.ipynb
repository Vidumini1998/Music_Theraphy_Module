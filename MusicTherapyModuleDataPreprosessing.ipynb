{
  "nbformat": 4,
  "nbformat_minor": 0,
  "metadata": {
    "colab": {
      "provenance": [],
      "authorship_tag": "ABX9TyNy3A4yB2KbrlLQHgN0po/3",
      "include_colab_link": true
    },
    "kernelspec": {
      "name": "python3",
      "display_name": "Python 3"
    },
    "language_info": {
      "name": "python"
    }
  },
  "cells": [
    {
      "cell_type": "markdown",
      "metadata": {
        "id": "view-in-github",
        "colab_type": "text"
      },
      "source": [
        "<a href=\"https://colab.research.google.com/github/Vidumini1998/Music_Theraphy_Module/blob/main/MusicTherapyModuleDataPreprosessing.ipynb\" target=\"_parent\"><img src=\"https://colab.research.google.com/assets/colab-badge.svg\" alt=\"Open In Colab\"/></a>"
      ]
    },
    {
      "cell_type": "markdown",
      "source": [
        "# **Survey Dataset**"
      ],
      "metadata": {
        "id": "zbXSmb0wQXgO"
      }
    },
    {
      "cell_type": "markdown",
      "source": [
        "**Imporrt Data**"
      ],
      "metadata": {
        "id": "5QQjLms2rFiY"
      }
    },
    {
      "cell_type": "code",
      "source": [
        "from google.colab import drive"
      ],
      "metadata": {
        "id": "VjEnRNE-SiAR"
      },
      "execution_count": null,
      "outputs": []
    },
    {
      "cell_type": "code",
      "source": [
        "drive.mount ('/content/drive')"
      ],
      "metadata": {
        "colab": {
          "base_uri": "https://localhost:8080/"
        },
        "id": "EUua_CYCT2MV",
        "outputId": "867b0905-29b7-44bb-ef58-6f052cd6a8f2"
      },
      "execution_count": null,
      "outputs": [
        {
          "output_type": "stream",
          "name": "stdout",
          "text": [
            "Mounted at /content/drive\n"
          ]
        }
      ]
    },
    {
      "cell_type": "code",
      "source": [
        "import numpy as np \n",
        "import pandas as pd\n",
        "from sklearn.model_selection import train_test_split\n",
        "%matplotlib inline \n",
        "from matplotlib import pyplot as plt\n",
        "from matplotlib import ticker \n",
        "import seaborn as sns\n",
        "from sklearn import preprocessing\n",
        "from sklearn.model_selection import train_test_split\n",
        "import os\n",
        "import re \n",
        "import nltk\n",
        "import requests\n",
        "import warnings\n",
        "import matplotlib.pyplot as plt"
      ],
      "metadata": {
        "id": "beap5vCmVD2m"
      },
      "execution_count": null,
      "outputs": []
    },
    {
      "cell_type": "markdown",
      "source": [
        "**Read Data**"
      ],
      "metadata": {
        "id": "piB983oz7EGl"
      }
    },
    {
      "cell_type": "code",
      "source": [
        "music = pd.read_csv('/content/drive/MyDrive/FYP /New_datasets/Survey on an AI based tool to manage emotions using Music and Color therapy techniques   (Responses) - Form Responses 1 (1).csv')"
      ],
      "metadata": {
        "id": "_Fj0C0FNbRVX"
      },
      "execution_count": null,
      "outputs": []
    },
    {
      "cell_type": "markdown",
      "source": [
        "**View All Data**"
      ],
      "metadata": {
        "id": "Xu9GoLZpfQ5F"
      }
    },
    {
      "cell_type": "code",
      "source": [
        "music.head()"
      ],
      "metadata": {
        "colab": {
          "base_uri": "https://localhost:8080/",
          "height": 768
        },
        "id": "p3tX4JKGb2-1",
        "outputId": "4606e574-1947-4a6f-e3c8-68fc57037917"
      },
      "execution_count": null,
      "outputs": [
        {
          "output_type": "execute_result",
          "data": {
            "text/plain": [
              "             Timestamp Please let us know of your age, Your gender?  \\\n",
              "0  12/27/2022 23:03:36                         26 - 30         Male   \n",
              "1  12/27/2022 23:25:27                         21 - 25       Female   \n",
              "2  12/27/2022 23:31:19                         31 - 35         Male   \n",
              "3  12/27/2022 23:38:25                         21 - 25       Female   \n",
              "4  12/27/2022 23:40:54                         26 - 30       Female   \n",
              "\n",
              "  How would you describe yourself? Your nationality? Your nearest town?  \\\n",
              "0                         Ambivert        Sri Lankan            Wattala   \n",
              "1                        Introvert         SriLankan             Kandy    \n",
              "2                         Ambivert        Sri Lankan            Colombo   \n",
              "3                        Extrovert        Sri Lankan        Warakapola    \n",
              "4                        Introvert         Sinhalese              Kandy   \n",
              "\n",
              "                                       Your hobby/s? Marital status?  \\\n",
              "0            Tinkering, Gaming, electronic designing     Not married   \n",
              "1                        Singing, painting, reading      Not married   \n",
              "2                    Guitar, Piano, Singing, Writing     Not married   \n",
              "3                            Listening songs & music     Not married   \n",
              "4  Listening to Music, Walking, Reading, Watching...     Not married   \n",
              "\n",
              "   Number of people who're living with you at the moment?  \\\n",
              "0                                                2.0        \n",
              "1                                                2.0        \n",
              "2                                                0.0        \n",
              "3                                                2.0        \n",
              "4                                                5.0        \n",
              "\n",
              "  Do you have any underlying medical conditions?  ...  \\\n",
              "0                                             No  ...   \n",
              "1                                             No  ...   \n",
              "2                                             No  ...   \n",
              "3                                             No  ...   \n",
              "4                                             No  ...   \n",
              "\n",
              "  We would love to know your impression on the below colors. What emotions of yours do they trigger? [Happy]  \\\n",
              "0                                        Green, Pink                                                           \n",
              "1                                               Pink                                                           \n",
              "2                                             Yellow                                                           \n",
              "3                                         Red, Black                                                           \n",
              "4                                Purple, Pink, White                                                           \n",
              "\n",
              "  We would love to know your impression on the below colors. What emotions of yours do they trigger? [Sad]  \\\n",
              "0                               Orange, Black, White                                                         \n",
              "1                                               Blue                                                         \n",
              "2                                              Black                                                         \n",
              "3                                              White                                                         \n",
              "4                                              White                                                         \n",
              "\n",
              "  We would love to know your impression on the below colors. What emotions of yours do they trigger? [Angry]  \\\n",
              "0                                                Red                                                           \n",
              "1                                                Red                                                           \n",
              "2                                                Red                                                           \n",
              "3                                              Green                                                           \n",
              "4                                                Red                                                           \n",
              "\n",
              "  We would love to know your impression on the below colors. What emotions of yours do they trigger? [Relaxed]  \\\n",
              "0                                      Purple, White                                                             \n",
              "1                                             Purple                                                             \n",
              "2                                        Blue, Green                                                             \n",
              "3                         Red, Yellow, Purple, Black                                                             \n",
              "4                  Blue, Yellow, Purple, Pink, White                                                             \n",
              "\n",
              "  We would love to know your impression on the below colors. What emotions of yours do they trigger? [Exhausted]  \\\n",
              "0                                        Blue, Black                                                               \n",
              "1                                              White                                                               \n",
              "2                                             Purple                                                               \n",
              "3                                               Pink                                                               \n",
              "4                                              Black                                                               \n",
              "\n",
              "  We would love to know your impression on the below colors. What emotions of yours do they trigger? [Romantic]  \\\n",
              "0                                          Red, Pink                                                              \n",
              "1                                                Red                                                              \n",
              "2                                              White                                                              \n",
              "3                                                Red                                                              \n",
              "4                                   Red, Blue, White                                                              \n",
              "\n",
              "   We would love to know your impression on the below colors. What emotions of yours do they trigger? [Cheered up]  \\\n",
              "0                                      Yellow, Green                                                                 \n",
              "1                                             Yellow                                                                 \n",
              "2                                             Orange                                                                 \n",
              "3                                        Blue, Black                                                                 \n",
              "4                                     Yellow, Orange                                                                 \n",
              "\n",
              "  How do you feel about using facial recognition feature in a mobile/ web application?  \\\n",
              "0                             Invasion of my privacy                                     \n",
              "1                                        Interesting                                     \n",
              "2                             Invasion of my privacy                                     \n",
              "3                                        Interesting                                     \n",
              "4                                        Interesting                                     \n",
              "\n",
              "   How keen are you on trying the facial recognition feature on an upcoming application?  \\\n",
              "0                                                  1                                       \n",
              "1                                                  5                                       \n",
              "2                                                  5                                       \n",
              "3                                                  3                                       \n",
              "4                                                  4                                       \n",
              "\n",
              "  How do you feel about using chatbots in a mobile/ web application?  \n",
              "0                                                  1                  \n",
              "1                                                  3                  \n",
              "2                                                  3                  \n",
              "3                                                  3                  \n",
              "4                                                  1                  \n",
              "\n",
              "[5 rows x 44 columns]"
            ],
            "text/html": [
              "\n",
              "  <div id=\"df-8d685803-7185-479b-95b2-4da989a60218\">\n",
              "    <div class=\"colab-df-container\">\n",
              "      <div>\n",
              "<style scoped>\n",
              "    .dataframe tbody tr th:only-of-type {\n",
              "        vertical-align: middle;\n",
              "    }\n",
              "\n",
              "    .dataframe tbody tr th {\n",
              "        vertical-align: top;\n",
              "    }\n",
              "\n",
              "    .dataframe thead th {\n",
              "        text-align: right;\n",
              "    }\n",
              "</style>\n",
              "<table border=\"1\" class=\"dataframe\">\n",
              "  <thead>\n",
              "    <tr style=\"text-align: right;\">\n",
              "      <th></th>\n",
              "      <th>Timestamp</th>\n",
              "      <th>Please let us know of your age,</th>\n",
              "      <th>Your gender?</th>\n",
              "      <th>How would you describe yourself?</th>\n",
              "      <th>Your nationality?</th>\n",
              "      <th>Your nearest town?</th>\n",
              "      <th>Your hobby/s?</th>\n",
              "      <th>Marital status?</th>\n",
              "      <th>Number of people who're living with you at the moment?</th>\n",
              "      <th>Do you have any underlying medical conditions?</th>\n",
              "      <th>...</th>\n",
              "      <th>We would love to know your impression on the below colors. What emotions of yours do they trigger? [Happy]</th>\n",
              "      <th>We would love to know your impression on the below colors. What emotions of yours do they trigger? [Sad]</th>\n",
              "      <th>We would love to know your impression on the below colors. What emotions of yours do they trigger? [Angry]</th>\n",
              "      <th>We would love to know your impression on the below colors. What emotions of yours do they trigger? [Relaxed]</th>\n",
              "      <th>We would love to know your impression on the below colors. What emotions of yours do they trigger? [Exhausted]</th>\n",
              "      <th>We would love to know your impression on the below colors. What emotions of yours do they trigger? [Romantic]</th>\n",
              "      <th>We would love to know your impression on the below colors. What emotions of yours do they trigger? [Cheered up]</th>\n",
              "      <th>How do you feel about using facial recognition feature in a mobile/ web application?</th>\n",
              "      <th>How keen are you on trying the facial recognition feature on an upcoming application?</th>\n",
              "      <th>How do you feel about using chatbots in a mobile/ web application?</th>\n",
              "    </tr>\n",
              "  </thead>\n",
              "  <tbody>\n",
              "    <tr>\n",
              "      <th>0</th>\n",
              "      <td>12/27/2022 23:03:36</td>\n",
              "      <td>26 - 30</td>\n",
              "      <td>Male</td>\n",
              "      <td>Ambivert</td>\n",
              "      <td>Sri Lankan</td>\n",
              "      <td>Wattala</td>\n",
              "      <td>Tinkering, Gaming, electronic designing</td>\n",
              "      <td>Not married</td>\n",
              "      <td>2.0</td>\n",
              "      <td>No</td>\n",
              "      <td>...</td>\n",
              "      <td>Green, Pink</td>\n",
              "      <td>Orange, Black, White</td>\n",
              "      <td>Red</td>\n",
              "      <td>Purple, White</td>\n",
              "      <td>Blue, Black</td>\n",
              "      <td>Red, Pink</td>\n",
              "      <td>Yellow, Green</td>\n",
              "      <td>Invasion of my privacy</td>\n",
              "      <td>1</td>\n",
              "      <td>1</td>\n",
              "    </tr>\n",
              "    <tr>\n",
              "      <th>1</th>\n",
              "      <td>12/27/2022 23:25:27</td>\n",
              "      <td>21 - 25</td>\n",
              "      <td>Female</td>\n",
              "      <td>Introvert</td>\n",
              "      <td>SriLankan</td>\n",
              "      <td>Kandy</td>\n",
              "      <td>Singing, painting, reading</td>\n",
              "      <td>Not married</td>\n",
              "      <td>2.0</td>\n",
              "      <td>No</td>\n",
              "      <td>...</td>\n",
              "      <td>Pink</td>\n",
              "      <td>Blue</td>\n",
              "      <td>Red</td>\n",
              "      <td>Purple</td>\n",
              "      <td>White</td>\n",
              "      <td>Red</td>\n",
              "      <td>Yellow</td>\n",
              "      <td>Interesting</td>\n",
              "      <td>5</td>\n",
              "      <td>3</td>\n",
              "    </tr>\n",
              "    <tr>\n",
              "      <th>2</th>\n",
              "      <td>12/27/2022 23:31:19</td>\n",
              "      <td>31 - 35</td>\n",
              "      <td>Male</td>\n",
              "      <td>Ambivert</td>\n",
              "      <td>Sri Lankan</td>\n",
              "      <td>Colombo</td>\n",
              "      <td>Guitar, Piano, Singing, Writing</td>\n",
              "      <td>Not married</td>\n",
              "      <td>0.0</td>\n",
              "      <td>No</td>\n",
              "      <td>...</td>\n",
              "      <td>Yellow</td>\n",
              "      <td>Black</td>\n",
              "      <td>Red</td>\n",
              "      <td>Blue, Green</td>\n",
              "      <td>Purple</td>\n",
              "      <td>White</td>\n",
              "      <td>Orange</td>\n",
              "      <td>Invasion of my privacy</td>\n",
              "      <td>5</td>\n",
              "      <td>3</td>\n",
              "    </tr>\n",
              "    <tr>\n",
              "      <th>3</th>\n",
              "      <td>12/27/2022 23:38:25</td>\n",
              "      <td>21 - 25</td>\n",
              "      <td>Female</td>\n",
              "      <td>Extrovert</td>\n",
              "      <td>Sri Lankan</td>\n",
              "      <td>Warakapola</td>\n",
              "      <td>Listening songs &amp; music</td>\n",
              "      <td>Not married</td>\n",
              "      <td>2.0</td>\n",
              "      <td>No</td>\n",
              "      <td>...</td>\n",
              "      <td>Red, Black</td>\n",
              "      <td>White</td>\n",
              "      <td>Green</td>\n",
              "      <td>Red, Yellow, Purple, Black</td>\n",
              "      <td>Pink</td>\n",
              "      <td>Red</td>\n",
              "      <td>Blue, Black</td>\n",
              "      <td>Interesting</td>\n",
              "      <td>3</td>\n",
              "      <td>3</td>\n",
              "    </tr>\n",
              "    <tr>\n",
              "      <th>4</th>\n",
              "      <td>12/27/2022 23:40:54</td>\n",
              "      <td>26 - 30</td>\n",
              "      <td>Female</td>\n",
              "      <td>Introvert</td>\n",
              "      <td>Sinhalese</td>\n",
              "      <td>Kandy</td>\n",
              "      <td>Listening to Music, Walking, Reading, Watching...</td>\n",
              "      <td>Not married</td>\n",
              "      <td>5.0</td>\n",
              "      <td>No</td>\n",
              "      <td>...</td>\n",
              "      <td>Purple, Pink, White</td>\n",
              "      <td>White</td>\n",
              "      <td>Red</td>\n",
              "      <td>Blue, Yellow, Purple, Pink, White</td>\n",
              "      <td>Black</td>\n",
              "      <td>Red, Blue, White</td>\n",
              "      <td>Yellow, Orange</td>\n",
              "      <td>Interesting</td>\n",
              "      <td>4</td>\n",
              "      <td>1</td>\n",
              "    </tr>\n",
              "  </tbody>\n",
              "</table>\n",
              "<p>5 rows × 44 columns</p>\n",
              "</div>\n",
              "      <button class=\"colab-df-convert\" onclick=\"convertToInteractive('df-8d685803-7185-479b-95b2-4da989a60218')\"\n",
              "              title=\"Convert this dataframe to an interactive table.\"\n",
              "              style=\"display:none;\">\n",
              "        \n",
              "  <svg xmlns=\"http://www.w3.org/2000/svg\" height=\"24px\"viewBox=\"0 0 24 24\"\n",
              "       width=\"24px\">\n",
              "    <path d=\"M0 0h24v24H0V0z\" fill=\"none\"/>\n",
              "    <path d=\"M18.56 5.44l.94 2.06.94-2.06 2.06-.94-2.06-.94-.94-2.06-.94 2.06-2.06.94zm-11 1L8.5 8.5l.94-2.06 2.06-.94-2.06-.94L8.5 2.5l-.94 2.06-2.06.94zm10 10l.94 2.06.94-2.06 2.06-.94-2.06-.94-.94-2.06-.94 2.06-2.06.94z\"/><path d=\"M17.41 7.96l-1.37-1.37c-.4-.4-.92-.59-1.43-.59-.52 0-1.04.2-1.43.59L10.3 9.45l-7.72 7.72c-.78.78-.78 2.05 0 2.83L4 21.41c.39.39.9.59 1.41.59.51 0 1.02-.2 1.41-.59l7.78-7.78 2.81-2.81c.8-.78.8-2.07 0-2.86zM5.41 20L4 18.59l7.72-7.72 1.47 1.35L5.41 20z\"/>\n",
              "  </svg>\n",
              "      </button>\n",
              "      \n",
              "  <style>\n",
              "    .colab-df-container {\n",
              "      display:flex;\n",
              "      flex-wrap:wrap;\n",
              "      gap: 12px;\n",
              "    }\n",
              "\n",
              "    .colab-df-convert {\n",
              "      background-color: #E8F0FE;\n",
              "      border: none;\n",
              "      border-radius: 50%;\n",
              "      cursor: pointer;\n",
              "      display: none;\n",
              "      fill: #1967D2;\n",
              "      height: 32px;\n",
              "      padding: 0 0 0 0;\n",
              "      width: 32px;\n",
              "    }\n",
              "\n",
              "    .colab-df-convert:hover {\n",
              "      background-color: #E2EBFA;\n",
              "      box-shadow: 0px 1px 2px rgba(60, 64, 67, 0.3), 0px 1px 3px 1px rgba(60, 64, 67, 0.15);\n",
              "      fill: #174EA6;\n",
              "    }\n",
              "\n",
              "    [theme=dark] .colab-df-convert {\n",
              "      background-color: #3B4455;\n",
              "      fill: #D2E3FC;\n",
              "    }\n",
              "\n",
              "    [theme=dark] .colab-df-convert:hover {\n",
              "      background-color: #434B5C;\n",
              "      box-shadow: 0px 1px 3px 1px rgba(0, 0, 0, 0.15);\n",
              "      filter: drop-shadow(0px 1px 2px rgba(0, 0, 0, 0.3));\n",
              "      fill: #FFFFFF;\n",
              "    }\n",
              "  </style>\n",
              "\n",
              "      <script>\n",
              "        const buttonEl =\n",
              "          document.querySelector('#df-8d685803-7185-479b-95b2-4da989a60218 button.colab-df-convert');\n",
              "        buttonEl.style.display =\n",
              "          google.colab.kernel.accessAllowed ? 'block' : 'none';\n",
              "\n",
              "        async function convertToInteractive(key) {\n",
              "          const element = document.querySelector('#df-8d685803-7185-479b-95b2-4da989a60218');\n",
              "          const dataTable =\n",
              "            await google.colab.kernel.invokeFunction('convertToInteractive',\n",
              "                                                     [key], {});\n",
              "          if (!dataTable) return;\n",
              "\n",
              "          const docLinkHtml = 'Like what you see? Visit the ' +\n",
              "            '<a target=\"_blank\" href=https://colab.research.google.com/notebooks/data_table.ipynb>data table notebook</a>'\n",
              "            + ' to learn more about interactive tables.';\n",
              "          element.innerHTML = '';\n",
              "          dataTable['output_type'] = 'display_data';\n",
              "          await google.colab.output.renderOutput(dataTable, element);\n",
              "          const docLink = document.createElement('div');\n",
              "          docLink.innerHTML = docLinkHtml;\n",
              "          element.appendChild(docLink);\n",
              "        }\n",
              "      </script>\n",
              "    </div>\n",
              "  </div>\n",
              "  "
            ]
          },
          "metadata": {},
          "execution_count": 6
        }
      ]
    },
    {
      "cell_type": "markdown",
      "source": [
        "**Size of the dataset**"
      ],
      "metadata": {
        "id": "dtngljSP7Tf8"
      }
    },
    {
      "cell_type": "code",
      "source": [
        "music.shape"
      ],
      "metadata": {
        "colab": {
          "base_uri": "https://localhost:8080/"
        },
        "id": "73gKiLE1er5o",
        "outputId": "d87e4989-a0a9-47e3-b601-eaca33b34335"
      },
      "execution_count": null,
      "outputs": [
        {
          "output_type": "execute_result",
          "data": {
            "text/plain": [
              "(135, 44)"
            ]
          },
          "metadata": {},
          "execution_count": 7
        }
      ]
    },
    {
      "cell_type": "markdown",
      "source": [
        "**Data Columns**"
      ],
      "metadata": {
        "id": "q0i0-fbQP4G7"
      }
    },
    {
      "cell_type": "code",
      "source": [
        "music.info()"
      ],
      "metadata": {
        "colab": {
          "base_uri": "https://localhost:8080/"
        },
        "id": "xctPB9NjFO69",
        "outputId": "f4281a14-ebea-4484-d7b7-9ac6fea65279"
      },
      "execution_count": null,
      "outputs": [
        {
          "output_type": "stream",
          "name": "stdout",
          "text": [
            "<class 'pandas.core.frame.DataFrame'>\n",
            "RangeIndex: 135 entries, 0 to 134\n",
            "Data columns (total 44 columns):\n",
            " #   Column                                                                                                                                                                                    Non-Null Count  Dtype  \n",
            "---  ------                                                                                                                                                                                    --------------  -----  \n",
            " 0   Timestamp                                                                                                                                                                                 135 non-null    object \n",
            " 1   Please let us know of your age,                                                                                                                                                           135 non-null    object \n",
            " 2   Your gender?                                                                                                                                                                              135 non-null    object \n",
            " 3   How would you describe yourself?                                                                                                                                                          135 non-null    object \n",
            " 4   Your nationality?                                                                                                                                                                         135 non-null    object \n",
            " 5   Your nearest town?                                                                                                                                                                        135 non-null    object \n",
            " 6   Your hobby/s?                                                                                                                                                                             135 non-null    object \n",
            " 7   Marital status?                                                                                                                                                                           135 non-null    object \n",
            " 8   Number of people who're living with you at the moment?                                                                                                                                    123 non-null    float64\n",
            " 9   Do you have any underlying medical conditions?                                                                                                                                            123 non-null    object \n",
            " 10  If yes, can we please know what's the underlying medical condition?                                                                                                                       8 non-null      object \n",
            " 11  Do you take medications for any underlying medical conditions?                                                                                                                            123 non-null    object \n",
            " 12  Your occupation/s?                                                                                                                                                                        135 non-null    object \n",
            " 13  Number of hours spent at workplace/ university/ school per day (on a typical weekday)?                                                                                                    135 non-null    object \n",
            " 14  Number of hours spent at workplace/ university/ school per day (on a typical day in your weekend)?                                                                                        104 non-null    object \n",
            " 15  Working/ studying from home / from office or school?                                                                                                                                      135 non-null    object \n",
            " 16  How often do you get mood swings at work/ office/ home?                                                                                                                                   135 non-null    int64  \n",
            " 17  What time of the week do you think you are most stressed out? [Day]                                                                                                                       129 non-null    object \n",
            " 18  What time of the day do you think you are most stressed out?                                                                                                                              132 non-null    float64\n",
            " 19  What methods do you use to manage daily work/ study stress?                                                                                                                               103 non-null    object \n",
            " 20  Do you usually listen to music or songs to manage your emotions?                                                                                                                          135 non-null    object \n",
            " 21  If no, have you tried using music/ songs to manage emotions?                                                                                                                              11 non-null     object \n",
            " 22  How effective it was to manage your moods/ emotions?                                                                                                                                      9 non-null      float64\n",
            " 23  Do you listen to a specific type (genre) of music all the time?                                                                                                                           135 non-null    object \n",
            " 24  Do you have a playlist that you listen to more often?                                                                                                                                     135 non-null    object \n",
            " 25  What's your most frequently used application to listen to music?                                                                                                                          135 non-null    object \n",
            " 26  Do you use a special music application to manage your emotions?                                                                                                                           135 non-null    object \n",
            " 27  If yes, please state the name of the specific music therapy application you use to manage your emotions?                                                                                  14 non-null     object \n",
            " 28  What type of music you prefer to listen when you feel happy?                                                                                                                              134 non-null    object \n",
            " 29  What are the songs you usually listen when you feel happy? (Mention a few song titles along with the singer of each song ex:-  Something Just Like This - Coldplay and The Chainsmokers)  81 non-null     object \n",
            " 30  What type of music you prefer to listen when you feel sad?                                                                                                                                135 non-null    object \n",
            " 31  What are the songs you usually listen when you feel sad? (Mention a few song titles along with the singer of each song ex:- Lift Me Up - Rihanna)                                         71 non-null     object \n",
            " 32  What type of music you prefer to listen when you feel angry?                                                                                                                              135 non-null    object \n",
            " 33  What are the songs you usually listen when you feel angry? (Mention a few song titles along with the singer of each song ex:- Blank Space - Taylor Swift)                                 43 non-null     object \n",
            " 34  We would love to know your impression on the below colors. What emotions of yours do they trigger? [Happy]                                                                                135 non-null    object \n",
            " 35  We would love to know your impression on the below colors. What emotions of yours do they trigger? [Sad]                                                                                  135 non-null    object \n",
            " 36  We would love to know your impression on the below colors. What emotions of yours do they trigger? [Angry]                                                                                135 non-null    object \n",
            " 37  We would love to know your impression on the below colors. What emotions of yours do they trigger? [Relaxed]                                                                              135 non-null    object \n",
            " 38  We would love to know your impression on the below colors. What emotions of yours do they trigger? [Exhausted]                                                                            135 non-null    object \n",
            " 39  We would love to know your impression on the below colors. What emotions of yours do they trigger? [Romantic]                                                                             135 non-null    object \n",
            " 40  We would love to know your impression on the below colors. What emotions of yours do they trigger? [Cheered up]                                                                           135 non-null    object \n",
            " 41  How do you feel about using facial recognition feature in a mobile/ web application?                                                                                                      135 non-null    object \n",
            " 42  How keen are you on trying the facial recognition feature on an upcoming application?                                                                                                     135 non-null    int64  \n",
            " 43  How do you feel about using chatbots in a mobile/ web application?                                                                                                                        135 non-null    int64  \n",
            "dtypes: float64(3), int64(3), object(38)\n",
            "memory usage: 46.5+ KB\n"
          ]
        }
      ]
    },
    {
      "cell_type": "markdown",
      "source": [
        "**Description of the DataFrame**"
      ],
      "metadata": {
        "id": "ZA2Z8UJKQKK0"
      }
    },
    {
      "cell_type": "code",
      "source": [
        "music.describe()"
      ],
      "metadata": {
        "colab": {
          "base_uri": "https://localhost:8080/",
          "height": 379
        },
        "id": "oJ0VF6wJROLe",
        "outputId": "3ee5a02e-152b-4074-f72d-9778cc45ba61"
      },
      "execution_count": null,
      "outputs": [
        {
          "output_type": "execute_result",
          "data": {
            "text/plain": [
              "       Number of people who're living with you at the moment?  \\\n",
              "count                                         123.000000        \n",
              "mean                                            3.715447        \n",
              "std                                             4.432592        \n",
              "min                                             0.000000        \n",
              "25%                                             3.000000        \n",
              "50%                                             3.000000        \n",
              "75%                                             4.000000        \n",
              "max                                            50.000000        \n",
              "\n",
              "       How often do you get mood swings at work/ office/ home?  \\\n",
              "count                                         135.000000         \n",
              "mean                                            5.400000         \n",
              "std                                             2.165537         \n",
              "min                                             1.000000         \n",
              "25%                                             4.000000         \n",
              "50%                                             5.000000         \n",
              "75%                                             7.000000         \n",
              "max                                            10.000000         \n",
              "\n",
              "       What time of the day do you think you are most stressed out?  \\\n",
              "count                                         132.000000              \n",
              "mean                                            3.022727              \n",
              "std                                             1.422104              \n",
              "min                                             1.000000              \n",
              "25%                                             2.000000              \n",
              "50%                                             3.000000              \n",
              "75%                                             4.000000              \n",
              "max                                             5.000000              \n",
              "\n",
              "       How effective it was to manage your moods/ emotions?  \\\n",
              "count                                           9.000000      \n",
              "mean                                            2.444444      \n",
              "std                                             1.424001      \n",
              "min                                             1.000000      \n",
              "25%                                             1.000000      \n",
              "50%                                             2.000000      \n",
              "75%                                             3.000000      \n",
              "max                                             5.000000      \n",
              "\n",
              "       How keen are you on trying the facial recognition feature on an upcoming application?  \\\n",
              "count                                         135.000000                                       \n",
              "mean                                            2.977778                                       \n",
              "std                                             1.260577                                       \n",
              "min                                             1.000000                                       \n",
              "25%                                             2.000000                                       \n",
              "50%                                             3.000000                                       \n",
              "75%                                             4.000000                                       \n",
              "max                                             5.000000                                       \n",
              "\n",
              "       How do you feel about using chatbots in a mobile/ web application?  \n",
              "count                                         135.000000                   \n",
              "mean                                            3.177778                   \n",
              "std                                             1.158142                   \n",
              "min                                             1.000000                   \n",
              "25%                                             3.000000                   \n",
              "50%                                             3.000000                   \n",
              "75%                                             4.000000                   \n",
              "max                                             5.000000                   "
            ],
            "text/html": [
              "\n",
              "  <div id=\"df-4653f906-1000-4296-8e2a-e9dfbef7042a\">\n",
              "    <div class=\"colab-df-container\">\n",
              "      <div>\n",
              "<style scoped>\n",
              "    .dataframe tbody tr th:only-of-type {\n",
              "        vertical-align: middle;\n",
              "    }\n",
              "\n",
              "    .dataframe tbody tr th {\n",
              "        vertical-align: top;\n",
              "    }\n",
              "\n",
              "    .dataframe thead th {\n",
              "        text-align: right;\n",
              "    }\n",
              "</style>\n",
              "<table border=\"1\" class=\"dataframe\">\n",
              "  <thead>\n",
              "    <tr style=\"text-align: right;\">\n",
              "      <th></th>\n",
              "      <th>Number of people who're living with you at the moment?</th>\n",
              "      <th>How often do you get mood swings at work/ office/ home?</th>\n",
              "      <th>What time of the day do you think you are most stressed out?</th>\n",
              "      <th>How effective it was to manage your moods/ emotions?</th>\n",
              "      <th>How keen are you on trying the facial recognition feature on an upcoming application?</th>\n",
              "      <th>How do you feel about using chatbots in a mobile/ web application?</th>\n",
              "    </tr>\n",
              "  </thead>\n",
              "  <tbody>\n",
              "    <tr>\n",
              "      <th>count</th>\n",
              "      <td>123.000000</td>\n",
              "      <td>135.000000</td>\n",
              "      <td>132.000000</td>\n",
              "      <td>9.000000</td>\n",
              "      <td>135.000000</td>\n",
              "      <td>135.000000</td>\n",
              "    </tr>\n",
              "    <tr>\n",
              "      <th>mean</th>\n",
              "      <td>3.715447</td>\n",
              "      <td>5.400000</td>\n",
              "      <td>3.022727</td>\n",
              "      <td>2.444444</td>\n",
              "      <td>2.977778</td>\n",
              "      <td>3.177778</td>\n",
              "    </tr>\n",
              "    <tr>\n",
              "      <th>std</th>\n",
              "      <td>4.432592</td>\n",
              "      <td>2.165537</td>\n",
              "      <td>1.422104</td>\n",
              "      <td>1.424001</td>\n",
              "      <td>1.260577</td>\n",
              "      <td>1.158142</td>\n",
              "    </tr>\n",
              "    <tr>\n",
              "      <th>min</th>\n",
              "      <td>0.000000</td>\n",
              "      <td>1.000000</td>\n",
              "      <td>1.000000</td>\n",
              "      <td>1.000000</td>\n",
              "      <td>1.000000</td>\n",
              "      <td>1.000000</td>\n",
              "    </tr>\n",
              "    <tr>\n",
              "      <th>25%</th>\n",
              "      <td>3.000000</td>\n",
              "      <td>4.000000</td>\n",
              "      <td>2.000000</td>\n",
              "      <td>1.000000</td>\n",
              "      <td>2.000000</td>\n",
              "      <td>3.000000</td>\n",
              "    </tr>\n",
              "    <tr>\n",
              "      <th>50%</th>\n",
              "      <td>3.000000</td>\n",
              "      <td>5.000000</td>\n",
              "      <td>3.000000</td>\n",
              "      <td>2.000000</td>\n",
              "      <td>3.000000</td>\n",
              "      <td>3.000000</td>\n",
              "    </tr>\n",
              "    <tr>\n",
              "      <th>75%</th>\n",
              "      <td>4.000000</td>\n",
              "      <td>7.000000</td>\n",
              "      <td>4.000000</td>\n",
              "      <td>3.000000</td>\n",
              "      <td>4.000000</td>\n",
              "      <td>4.000000</td>\n",
              "    </tr>\n",
              "    <tr>\n",
              "      <th>max</th>\n",
              "      <td>50.000000</td>\n",
              "      <td>10.000000</td>\n",
              "      <td>5.000000</td>\n",
              "      <td>5.000000</td>\n",
              "      <td>5.000000</td>\n",
              "      <td>5.000000</td>\n",
              "    </tr>\n",
              "  </tbody>\n",
              "</table>\n",
              "</div>\n",
              "      <button class=\"colab-df-convert\" onclick=\"convertToInteractive('df-4653f906-1000-4296-8e2a-e9dfbef7042a')\"\n",
              "              title=\"Convert this dataframe to an interactive table.\"\n",
              "              style=\"display:none;\">\n",
              "        \n",
              "  <svg xmlns=\"http://www.w3.org/2000/svg\" height=\"24px\"viewBox=\"0 0 24 24\"\n",
              "       width=\"24px\">\n",
              "    <path d=\"M0 0h24v24H0V0z\" fill=\"none\"/>\n",
              "    <path d=\"M18.56 5.44l.94 2.06.94-2.06 2.06-.94-2.06-.94-.94-2.06-.94 2.06-2.06.94zm-11 1L8.5 8.5l.94-2.06 2.06-.94-2.06-.94L8.5 2.5l-.94 2.06-2.06.94zm10 10l.94 2.06.94-2.06 2.06-.94-2.06-.94-.94-2.06-.94 2.06-2.06.94z\"/><path d=\"M17.41 7.96l-1.37-1.37c-.4-.4-.92-.59-1.43-.59-.52 0-1.04.2-1.43.59L10.3 9.45l-7.72 7.72c-.78.78-.78 2.05 0 2.83L4 21.41c.39.39.9.59 1.41.59.51 0 1.02-.2 1.41-.59l7.78-7.78 2.81-2.81c.8-.78.8-2.07 0-2.86zM5.41 20L4 18.59l7.72-7.72 1.47 1.35L5.41 20z\"/>\n",
              "  </svg>\n",
              "      </button>\n",
              "      \n",
              "  <style>\n",
              "    .colab-df-container {\n",
              "      display:flex;\n",
              "      flex-wrap:wrap;\n",
              "      gap: 12px;\n",
              "    }\n",
              "\n",
              "    .colab-df-convert {\n",
              "      background-color: #E8F0FE;\n",
              "      border: none;\n",
              "      border-radius: 50%;\n",
              "      cursor: pointer;\n",
              "      display: none;\n",
              "      fill: #1967D2;\n",
              "      height: 32px;\n",
              "      padding: 0 0 0 0;\n",
              "      width: 32px;\n",
              "    }\n",
              "\n",
              "    .colab-df-convert:hover {\n",
              "      background-color: #E2EBFA;\n",
              "      box-shadow: 0px 1px 2px rgba(60, 64, 67, 0.3), 0px 1px 3px 1px rgba(60, 64, 67, 0.15);\n",
              "      fill: #174EA6;\n",
              "    }\n",
              "\n",
              "    [theme=dark] .colab-df-convert {\n",
              "      background-color: #3B4455;\n",
              "      fill: #D2E3FC;\n",
              "    }\n",
              "\n",
              "    [theme=dark] .colab-df-convert:hover {\n",
              "      background-color: #434B5C;\n",
              "      box-shadow: 0px 1px 3px 1px rgba(0, 0, 0, 0.15);\n",
              "      filter: drop-shadow(0px 1px 2px rgba(0, 0, 0, 0.3));\n",
              "      fill: #FFFFFF;\n",
              "    }\n",
              "  </style>\n",
              "\n",
              "      <script>\n",
              "        const buttonEl =\n",
              "          document.querySelector('#df-4653f906-1000-4296-8e2a-e9dfbef7042a button.colab-df-convert');\n",
              "        buttonEl.style.display =\n",
              "          google.colab.kernel.accessAllowed ? 'block' : 'none';\n",
              "\n",
              "        async function convertToInteractive(key) {\n",
              "          const element = document.querySelector('#df-4653f906-1000-4296-8e2a-e9dfbef7042a');\n",
              "          const dataTable =\n",
              "            await google.colab.kernel.invokeFunction('convertToInteractive',\n",
              "                                                     [key], {});\n",
              "          if (!dataTable) return;\n",
              "\n",
              "          const docLinkHtml = 'Like what you see? Visit the ' +\n",
              "            '<a target=\"_blank\" href=https://colab.research.google.com/notebooks/data_table.ipynb>data table notebook</a>'\n",
              "            + ' to learn more about interactive tables.';\n",
              "          element.innerHTML = '';\n",
              "          dataTable['output_type'] = 'display_data';\n",
              "          await google.colab.output.renderOutput(dataTable, element);\n",
              "          const docLink = document.createElement('div');\n",
              "          docLink.innerHTML = docLinkHtml;\n",
              "          element.appendChild(docLink);\n",
              "        }\n",
              "      </script>\n",
              "    </div>\n",
              "  </div>\n",
              "  "
            ]
          },
          "metadata": {},
          "execution_count": 9
        }
      ]
    },
    {
      "cell_type": "markdown",
      "source": [
        "**Checking for missing values**"
      ],
      "metadata": {
        "id": "uDRalRoy7cCV"
      }
    },
    {
      "cell_type": "code",
      "source": [
        "music.isnull().any().sum()"
      ],
      "metadata": {
        "colab": {
          "base_uri": "https://localhost:8080/"
        },
        "id": "iKBdl_Yjf0nd",
        "outputId": "9e174860-52d5-40f3-e6fe-9c43cf0e0b1f"
      },
      "execution_count": null,
      "outputs": [
        {
          "output_type": "execute_result",
          "data": {
            "text/plain": [
              "15"
            ]
          },
          "metadata": {},
          "execution_count": 10
        }
      ]
    },
    {
      "cell_type": "markdown",
      "source": [
        "**Filling NaN values with forward fill value**"
      ],
      "metadata": {
        "id": "HP1G1YwVPXUW"
      }
    },
    {
      "cell_type": "code",
      "source": [
        "new_filling = music.fillna(method=\"ffill\")"
      ],
      "metadata": {
        "id": "TG-y6dqNN4BC"
      },
      "execution_count": null,
      "outputs": []
    },
    {
      "cell_type": "code",
      "source": [
        "All = music.shape[0]\n",
        "fraud = music[music['Do you usually listen to music or songs to manage your emotions? '] == 1]\n",
        "nonFraud = music[music['Do you usually listen to music or songs to manage your emotions? '] == 0]\n",
        "\n",
        "x = len(fraud)/All\n",
        "y = len(nonFraud)/All\n",
        "\n",
        "print('frauds :',x*100,'%')\n",
        "print('non frauds :',y*100,'%')"
      ],
      "metadata": {
        "colab": {
          "base_uri": "https://localhost:8080/"
        },
        "id": "0pNk3Su8OtpO",
        "outputId": "9d9c2bb9-38f5-4c03-b3be-2909d64a2c38"
      },
      "execution_count": null,
      "outputs": [
        {
          "output_type": "stream",
          "name": "stdout",
          "text": [
            "frauds : 0.0 %\n",
            "non frauds : 0.0 %\n"
          ]
        }
      ]
    },
    {
      "cell_type": "markdown",
      "source": [
        "**Data Distributions**"
      ],
      "metadata": {
        "id": "XsNsmUQ_Puln"
      }
    },
    {
      "cell_type": "code",
      "source": [
        "labels = ['Rarely','2', '3', '4', '5', '6', '7', '8', '9', 'Very Frequently']\n",
        "classes = pd.value_counts(music['How often do you get mood swings at work/ office/ home?'], sort = True)\n",
        "classes.plot(kind = 'bar', rot=0)\n",
        "plt.title(\"Distribution of how often mood swings occur\")\n",
        "plt.xticks(range(10), labels)\n",
        "plt.xlabel(\"Range\")\n",
        "plt.ylabel(\"Frequency\")"
      ],
      "metadata": {
        "colab": {
          "base_uri": "https://localhost:8080/",
          "height": 312
        },
        "id": "pcC1lfFLxC7Q",
        "outputId": "0ba6c15d-375c-4ba0-c783-2007b8506b5b"
      },
      "execution_count": null,
      "outputs": [
        {
          "output_type": "execute_result",
          "data": {
            "text/plain": [
              "Text(0, 0.5, 'Frequency')"
            ]
          },
          "metadata": {},
          "execution_count": 13
        },
        {
          "output_type": "display_data",
          "data": {
            "text/plain": [
              "<Figure size 432x288 with 1 Axes>"
            ],
            "image/png": "[encoded data removed]"
          },
          "metadata": {
            "needs_background": "light"
          }
        }
      ]
    },
    {
      "cell_type": "code",
      "source": [
        "labels = ['Yes','No']\n",
        "classes = pd.value_counts(music['Do you usually listen to music or songs to manage your emotions? '], sort = True)\n",
        "classes.plot(kind = 'bar', rot=0)\n",
        "plt.title(\"Distribution of the people who listen to music to manage emotions\")\n",
        "plt.xticks(range(2), labels)\n",
        "plt.xlabel(\"Response\")\n",
        "plt.ylabel(\"Frequency\")"
      ],
      "metadata": {
        "colab": {
          "base_uri": "https://localhost:8080/",
          "height": 312
        },
        "id": "0en_mWMcP-GD",
        "outputId": "bc290aca-3fa7-4f9f-c18a-bd62d02f4ba4"
      },
      "execution_count": null,
      "outputs": [
        {
          "output_type": "execute_result",
          "data": {
            "text/plain": [
              "Text(0, 0.5, 'Frequency')"
            ]
          },
          "metadata": {},
          "execution_count": 14
        },
        {
          "output_type": "display_data",
          "data": {
            "text/plain": [
              "<Figure size 432x288 with 1 Axes>"
            ],
            "image/png": "[encoded data removed]"
          },
          "metadata": {
            "needs_background": "light"
          }
        }
      ]
    },
    {
      "cell_type": "code",
      "source": [
        "labels = ['Yes','No']\n",
        "classes = pd.value_counts(music['Do you listen to a specific type (genre) of music all the time?'], sort = True)\n",
        "classes.plot(kind = 'bar', rot=0)\n",
        "plt.title(\"Distribution of the people who listen to music to a specific genre of music\")\n",
        "plt.xticks(range(2), labels)\n",
        "plt.xlabel(\"Response\")\n",
        "plt.ylabel(\"Frequency\")"
      ],
      "metadata": {
        "colab": {
          "base_uri": "https://localhost:8080/",
          "height": 312
        },
        "id": "JGRYh4U2T00N",
        "outputId": "48b59cfc-bcbf-462c-ee92-023f1235714f"
      },
      "execution_count": null,
      "outputs": [
        {
          "output_type": "execute_result",
          "data": {
            "text/plain": [
              "Text(0, 0.5, 'Frequency')"
            ]
          },
          "metadata": {},
          "execution_count": 15
        },
        {
          "output_type": "display_data",
          "data": {
            "text/plain": [
              "<Figure size 432x288 with 1 Axes>"
            ],
            "image/png": "[encoded data removed]"
          },
          "metadata": {
            "needs_background": "light"
          }
        }
      ]
    },
    {
      "cell_type": "code",
      "source": [
        "labels = ['Yes','No']\n",
        "classes = pd.value_counts(music['Do you have a playlist that you listen to more often?'], sort = True)\n",
        "classes.plot(kind = 'bar', rot=0)\n",
        "plt.title(\"Distribution of the people who have playlists that you listen to more often\")\n",
        "plt.xticks(range(2), labels)\n",
        "plt.xlabel(\"Response\")\n",
        "plt.ylabel(\"Frequency\")"
      ],
      "metadata": {
        "colab": {
          "base_uri": "https://localhost:8080/",
          "height": 312
        },
        "id": "urW3Kv4p7hLJ",
        "outputId": "14034860-bc63-4d17-b813-1be2435576c3"
      },
      "execution_count": null,
      "outputs": [
        {
          "output_type": "execute_result",
          "data": {
            "text/plain": [
              "Text(0, 0.5, 'Frequency')"
            ]
          },
          "metadata": {},
          "execution_count": 17
        },
        {
          "output_type": "display_data",
          "data": {
            "text/plain": [
              "<Figure size 432x288 with 1 Axes>"
            ],
            "image/png": "[encoded data removed]"
          },
          "metadata": {
            "needs_background": "light"
          }
        }
      ]
    },
    {
      "cell_type": "code",
      "source": [
        "labels = ['Youtube','Spotify', 'Shazam', 'Apple Music', 'google Music', 'Other']\n",
        "classes = pd.value_counts(music[\"What's your most frequently used application to listen to music?\"], sort = True)\n",
        "classes.plot(kind = 'bar', rot=0)\n",
        "plt.title(\"Distribution of most frequently used applications to listen to music\")\n",
        "plt.xticks(range(6), labels)\n",
        "plt.xlabel(\"Applications\")\n",
        "plt.ylabel(\"Frequency\")"
      ],
      "metadata": {
        "colab": {
          "base_uri": "https://localhost:8080/",
          "height": 312
        },
        "id": "ZJ4IG8Jj8czh",
        "outputId": "a319ee08-c723-45b4-ae83-97ee6c223290"
      },
      "execution_count": null,
      "outputs": [
        {
          "output_type": "execute_result",
          "data": {
            "text/plain": [
              "Text(0, 0.5, 'Frequency')"
            ]
          },
          "metadata": {},
          "execution_count": 19
        },
        {
          "output_type": "display_data",
          "data": {
            "text/plain": [
              "<Figure size 432x288 with 1 Axes>"
            ],
            "image/png": "[encoded data removed]"
          },
          "metadata": {
            "needs_background": "light"
          }
        }
      ]
    },
    {
      "cell_type": "markdown",
      "source": [
        "**Checking for categorical data**"
      ],
      "metadata": {
        "id": "R2P2FHImPqN9"
      }
    },
    {
      "cell_type": "code",
      "source": [
        "moodswings = [music['How often do you get mood swings at work/ office/ home?'].values]\n",
        "sns.distplot(moodswings)"
      ],
      "metadata": {
        "colab": {
          "base_uri": "https://localhost:8080/",
          "height": 337
        },
        "id": "tN4K7gbzhMNU",
        "outputId": "3b1ef399-ae33-4153-c713-c23bf12fc663"
      },
      "execution_count": null,
      "outputs": [
        {
          "output_type": "stream",
          "name": "stderr",
          "text": [
            "/usr/local/lib/python3.8/dist-packages/seaborn/distributions.py:2619: FutureWarning: `distplot` is a deprecated function and will be removed in a future version. Please adapt your code to use either `displot` (a figure-level function with similar flexibility) or `histplot` (an axes-level function for histograms).\n",
            "  warnings.warn(msg, FutureWarning)\n"
          ]
        },
        {
          "output_type": "execute_result",
          "data": {
            "text/plain": [
              "<matplotlib.axes._subplots.AxesSubplot at 0x7f6781c9ec70>"
            ]
          },
          "metadata": {},
          "execution_count": 14
        },
        {
          "output_type": "display_data",
          "data": {
            "text/plain": [
              "<Figure size 432x288 with 1 Axes>"
            ],
            "image/png": "[encoded data removed]"
          },
          "metadata": {
            "needs_background": "light"
          }
        }
      ]
    },
    {
      "cell_type": "code",
      "source": [
        "dfl = music.copy()"
      ],
      "metadata": {
        "id": "YoS2BEeJGEwE"
      },
      "execution_count": null,
      "outputs": []
    },
    {
      "cell_type": "markdown",
      "source": [
        "**Drop Columns**"
      ],
      "metadata": {
        "id": "CL02LvO9Rbhn"
      }
    },
    {
      "cell_type": "code",
      "source": [
        "modified_music = dfl.drop(columns=['Timestamp', 'Marital status?', \"Number of people who're living with you at the moment?\", 'Do you have any underlying medical conditions?', \"If yes, can we please know what's the underlying medical condition?\", 'Do you take medications for any underlying medical conditions?','Number of hours spent at workplace/ university/ school per day (on a typical day in your weekend)?', 'We would love to know your impression on the below colors. What emotions of yours do they trigger? [Happy]', 'We would love to know your impression on the below colors. What emotions of yours do they trigger? [Sad]', 'We would love to know your impression on the below colors. What emotions of yours do they trigger? [Angry]', 'We would love to know your impression on the below colors. What emotions of yours do they trigger? [Relaxed]', 'We would love to know your impression on the below colors. What emotions of yours do they trigger? [Exhausted]', 'We would love to know your impression on the below colors. What emotions of yours do they trigger? [Romantic]', 'We would love to know your impression on the below colors. What emotions of yours do they trigger? [Cheered up]', 'How do you feel about using facial recognition feature in a mobile/ web application?', 'How keen are you on trying the facial recognition feature on an upcoming application?', 'How do you feel about using chatbots in a mobile/ web application?'])"
      ],
      "metadata": {
        "id": "ei3rBX8-LLDw"
      },
      "execution_count": null,
      "outputs": []
    },
    {
      "cell_type": "markdown",
      "source": [
        "**Modified Dataset**"
      ],
      "metadata": {
        "id": "ysfl-QX4RiW2"
      }
    },
    {
      "cell_type": "code",
      "source": [
        "modified_music"
      ],
      "metadata": {
        "colab": {
          "base_uri": "https://localhost:8080/",
          "height": 1000
        },
        "id": "q06iTDYqLgDX",
        "outputId": "e33eb8af-eaad-4f95-9130-303f7d241b4f"
      },
      "execution_count": null,
      "outputs": [
        {
          "output_type": "execute_result",
          "data": {
            "text/plain": [
              "    Please let us know of your age, Your gender?  \\\n",
              "0                           26 - 30         Male   \n",
              "1                           21 - 25       Female   \n",
              "2                           31 - 35         Male   \n",
              "3                           21 - 25       Female   \n",
              "4                           26 - 30       Female   \n",
              "..                              ...          ...   \n",
              "130                     51 or above       Female   \n",
              "131                         26 - 30         Male   \n",
              "132                         21 - 25       Female   \n",
              "133                         21 - 25       Female   \n",
              "134                         26 - 30         Male   \n",
              "\n",
              "    How would you describe yourself? Your nationality? Your nearest town?  \\\n",
              "0                           Ambivert        Sri Lankan            Wattala   \n",
              "1                          Introvert         SriLankan             Kandy    \n",
              "2                           Ambivert        Sri Lankan            Colombo   \n",
              "3                          Extrovert        Sri Lankan        Warakapola    \n",
              "4                          Introvert         Sinhalese              Kandy   \n",
              "..                               ...               ...                ...   \n",
              "130                         Ambivert        Sri Lankan            Kegalle   \n",
              "131                         Ambivert         Srilankan           Kegalle    \n",
              "132                        Extrovert       Sri lankan          Kadawatha    \n",
              "133                         Ambivert         Srilankan         Ruwanwella   \n",
              "134                        Extrovert        Sri Lankan           Kegalle    \n",
              "\n",
              "                                         Your hobby/s?  \\\n",
              "0              Tinkering, Gaming, electronic designing   \n",
              "1                          Singing, painting, reading    \n",
              "2                      Guitar, Piano, Singing, Writing   \n",
              "3                              Listening songs & music   \n",
              "4    Listening to Music, Walking, Reading, Watching...   \n",
              "..                                                 ...   \n",
              "130                    Watching TV, Listening to Music   \n",
              "131                            Thinking and Designing    \n",
              "132     LiListening to music , dancing , food testing    \n",
              "133  Cooking, Gardening, Watching movies, Reading n...   \n",
              "134    Traveling, listen to music, playing video games   \n",
              "\n",
              "                        Your occupation/s?  \\\n",
              "0                                 Engineer   \n",
              "1                                 Student    \n",
              "2                        Engineer/ Teacher   \n",
              "3                      University Student    \n",
              "4    Student, Associate software engineer    \n",
              "..                                     ...   \n",
              "130                              Teaching    \n",
              "131                             Architect    \n",
              "132                               Student    \n",
              "133                        Until Studying    \n",
              "134                             Marketing    \n",
              "\n",
              "    Number of hours spent at workplace/ university/ school per day (on a typical weekday)?  \\\n",
              "0                                                    9                                       \n",
              "1                                                    2                                       \n",
              "2                                           8-10 hours                                       \n",
              "3                                                    8                                       \n",
              "4                                                 8hrs                                       \n",
              "..                                                 ...                                       \n",
              "130                                                  8                                       \n",
              "131                                             18 hrs                                       \n",
              "132                                           8 hours                                        \n",
              "133                                   Minimum 4 hours                                        \n",
              "134                                       9 hrs 30 min                                       \n",
              "\n",
              "    Working/ studying from home / from office or school?  \\\n",
              "0                                               Hybrid     \n",
              "1                          Working/ studying from Home     \n",
              "2                                               Hybrid     \n",
              "3                          Working/ studying from Home     \n",
              "4                                               Hybrid     \n",
              "..                                                 ...     \n",
              "130            Working/ studying from Office or school     \n",
              "131                                             Hybrid     \n",
              "132                                             Hybrid     \n",
              "133            Working/ studying from Office or school     \n",
              "134                                             Hybrid     \n",
              "\n",
              "     How often do you get mood swings at work/ office/ home?  ...  \\\n",
              "0                                                    7        ...   \n",
              "1                                                    9        ...   \n",
              "2                                                    1        ...   \n",
              "3                                                    5        ...   \n",
              "4                                                    8        ...   \n",
              "..                                                 ...        ...   \n",
              "130                                                  4        ...   \n",
              "131                                                  7        ...   \n",
              "132                                                  7        ...   \n",
              "133                                                  6        ...   \n",
              "134                                                  3        ...   \n",
              "\n",
              "    Do you have a playlist that you listen to more often?  \\\n",
              "0                                                  Yes      \n",
              "1                                                   No      \n",
              "2                                                  Yes      \n",
              "3                                                  Yes      \n",
              "4                                                  Yes      \n",
              "..                                                 ...      \n",
              "130                                                Yes      \n",
              "131                                                 No      \n",
              "132                                                Yes      \n",
              "133                                                Yes      \n",
              "134                                                Yes      \n",
              "\n",
              "     What's your most frequently used application to listen to music?  \\\n",
              "0                                              Spotify                  \n",
              "1                                              YouTube                  \n",
              "2                                              YouTube                  \n",
              "3                                                Other                  \n",
              "4                                              Spotify                  \n",
              "..                                                 ...                  \n",
              "130                                            YouTube                  \n",
              "131                                            YouTube                  \n",
              "132                                            Spotify                  \n",
              "133                                       Google Music                  \n",
              "134                                            Spotify                  \n",
              "\n",
              "    Do you use a special music application to manage your emotions?  \\\n",
              "0                                                   No                \n",
              "1                                                   No                \n",
              "2                                                   No                \n",
              "3                                                   No                \n",
              "4                                                   No                \n",
              "..                                                 ...                \n",
              "130                                                 No                \n",
              "131                                                 No                \n",
              "132                                                Yes                \n",
              "133                                                 No                \n",
              "134                                                 No                \n",
              "\n",
              "    If yes, please state the name of the specific music therapy application you use to manage your emotions?  \\\n",
              "0                                                  NaN                                                         \n",
              "1                                                  No                                                          \n",
              "2                                                  NaN                                                         \n",
              "3                                                  NaN                                                         \n",
              "4                                                  NaN                                                         \n",
              "..                                                 ...                                                         \n",
              "130                                                NaN                                                         \n",
              "131                                                NaN                                                         \n",
              "132                                           Spotify                                                          \n",
              "133                                                NaN                                                         \n",
              "134                                                NaN                                                         \n",
              "\n",
              "    What type of music you prefer to listen when you feel happy?  \\\n",
              "0                                        Happy, Melody             \n",
              "1                            Don't listen to any music             \n",
              "2                                                Happy             \n",
              "3                                                Happy             \n",
              "4                                         Happy, Hyper             \n",
              "..                                                 ...             \n",
              "130                                              Happy             \n",
              "131                                              Happy             \n",
              "132                                       Happy, Rock              \n",
              "133                                       Happy, Hyper             \n",
              "134                                       Happy, Hyper             \n",
              "\n",
              "     What are the songs you usually listen when you feel happy? (Mention a few song titles along with the singer of each song ex:-  Something Just Like This - Coldplay and The Chainsmokers)  \\\n",
              "0                   Sunflower - spiderman, post malone                                                                                                                                          \n",
              "1              I don’t listen to music when I’m happy                                                                                                                                           \n",
              "2                              Now: \"Nee Kavithaigala\"                                                                                                                                          \n",
              "3                                                  NaN                                                                                                                                          \n",
              "4                                                  NaN                                                                                                                                          \n",
              "..                                                 ...                                                                                                                                          \n",
              "130       Songs of T.M. Jayarathna, Sunil Edirisinghe                                                                                                                                           \n",
              "131  Something Just Like This - Coldplay and The Ch...                                                                                                                                          \n",
              "132                                       Title /stero                                                                                                                                          \n",
              "133  Sanda kumari mage manali- Nadee \\nAlawantha ne...                                                                                                                                          \n",
              "134  Blinding lights,/star boy- weeknd, sangria- bl...                                                                                                                                          \n",
              "\n",
              "    What type of music you prefer to listen when you feel sad?  \\\n",
              "0                                          Mood fixing           \n",
              "1                                                  Sad           \n",
              "2                                                Happy           \n",
              "3                                          Mood fixing           \n",
              "4    The music which make you boost up, Happy, Mood...           \n",
              "..                                                 ...           \n",
              "130                          Don't listen to any music           \n",
              "131           The music which make you boost up, Happy           \n",
              "132  The music which make you boost up, Happy, Mood...           \n",
              "133                                                Sad           \n",
              "134  The music which make you boost up, Happy, Mood...           \n",
              "\n",
              "    What are the songs you usually listen when you feel sad? (Mention a few song titles along with the singer of each song ex:- Lift Me Up - Rihanna)   \\\n",
              "0                                                  NaN                                                                                                   \n",
              "1                                   Old Sinhala songs                                                                                                    \n",
              "2                           \"Nenje Nenje Maranthuvidu\"                                                                                                   \n",
              "3                                                  NaN                                                                                                   \n",
              "4                                                  NaN                                                                                                   \n",
              "..                                                 ...                                                                                                   \n",
              "130                                                NaN                                                                                                   \n",
              "131  Something Just Like This - Coldplay and The Ch...                                                                                                   \n",
              "132                                          Karnatic                                                                                                    \n",
              "133  Santhana susum dawata- Suneera\\nMal onchilla- ...                                                                                                   \n",
              "134                                      Yanni’s music                                                                                                   \n",
              "\n",
              "    What type of music you prefer to listen when you feel angry?  \\\n",
              "0                                    Relaxing and calm             \n",
              "1                            Don't listen to any music             \n",
              "2                                    Relaxing and calm             \n",
              "3                                    Relaxing and calm             \n",
              "4                            Don't listen to any music             \n",
              "..                                                 ...             \n",
              "130                          Don't listen to any music             \n",
              "131                                  Relaxing and calm             \n",
              "132                                              Angry             \n",
              "133                          Don't listen to any music             \n",
              "134                           Relaxing and calm, Angry             \n",
              "\n",
              "    What are the songs you usually listen when you feel angry? (Mention a few song titles along with the singer of each song ex:- Blank Space - Taylor Swift)  \n",
              "0                                                  NaN                                                                                                         \n",
              "1                                                  NaN                                                                                                         \n",
              "2                                      \"Janagana mana\"                                                                                                         \n",
              "3                                                  NaN                                                                                                         \n",
              "4                                                  NaN                                                                                                         \n",
              "..                                                 ...                                                                                                         \n",
              "130                                                NaN                                                                                                         \n",
              "131  Something Just Like This - Coldplay and The Ch...                                                                                                         \n",
              "132                           Dark hours - katty perry                                                                                                         \n",
              "133                                                NaN                                                                                                         \n",
              "134  Not afraid- eminem, November rain- guns and roses                                                                                                         \n",
              "\n",
              "[135 rows x 27 columns]"
            ],
            "text/html": [
              "\n",
              "  <div id=\"df-36cbdccd-eaf3-487c-a7a4-c8efbaffedf2\">\n",
              "    <div class=\"colab-df-container\">\n",
              "      <div>\n",
              "<style scoped>\n",
              "    .dataframe tbody tr th:only-of-type {\n",
              "        vertical-align: middle;\n",
              "    }\n",
              "\n",
              "    .dataframe tbody tr th {\n",
              "        vertical-align: top;\n",
              "    }\n",
              "\n",
              "    .dataframe thead th {\n",
              "        text-align: right;\n",
              "    }\n",
              "</style>\n",
              "<table border=\"1\" class=\"dataframe\">\n",
              "  <thead>\n",
              "    <tr style=\"text-align: right;\">\n",
              "      <th></th>\n",
              "      <th>Please let us know of your age,</th>\n",
              "      <th>Your gender?</th>\n",
              "      <th>How would you describe yourself?</th>\n",
              "      <th>Your nationality?</th>\n",
              "      <th>Your nearest town?</th>\n",
              "      <th>Your hobby/s?</th>\n",
              "      <th>Your occupation/s?</th>\n",
              "      <th>Number of hours spent at workplace/ university/ school per day (on a typical weekday)?</th>\n",
              "      <th>Working/ studying from home / from office or school?</th>\n",
              "      <th>How often do you get mood swings at work/ office/ home?</th>\n",
              "      <th>...</th>\n",
              "      <th>Do you have a playlist that you listen to more often?</th>\n",
              "      <th>What's your most frequently used application to listen to music?</th>\n",
              "      <th>Do you use a special music application to manage your emotions?</th>\n",
              "      <th>If yes, please state the name of the specific music therapy application you use to manage your emotions?</th>\n",
              "      <th>What type of music you prefer to listen when you feel happy?</th>\n",
              "      <th>What are the songs you usually listen when you feel happy? (Mention a few song titles along with the singer of each song ex:-  Something Just Like This - Coldplay and The Chainsmokers)</th>\n",
              "      <th>What type of music you prefer to listen when you feel sad?</th>\n",
              "      <th>What are the songs you usually listen when you feel sad? (Mention a few song titles along with the singer of each song ex:- Lift Me Up - Rihanna)</th>\n",
              "      <th>What type of music you prefer to listen when you feel angry?</th>\n",
              "      <th>What are the songs you usually listen when you feel angry? (Mention a few song titles along with the singer of each song ex:- Blank Space - Taylor Swift)</th>\n",
              "    </tr>\n",
              "  </thead>\n",
              "  <tbody>\n",
              "    <tr>\n",
              "      <th>0</th>\n",
              "      <td>26 - 30</td>\n",
              "      <td>Male</td>\n",
              "      <td>Ambivert</td>\n",
              "      <td>Sri Lankan</td>\n",
              "      <td>Wattala</td>\n",
              "      <td>Tinkering, Gaming, electronic designing</td>\n",
              "      <td>Engineer</td>\n",
              "      <td>9</td>\n",
              "      <td>Hybrid</td>\n",
              "      <td>7</td>\n",
              "      <td>...</td>\n",
              "      <td>Yes</td>\n",
              "      <td>Spotify</td>\n",
              "      <td>No</td>\n",
              "      <td>NaN</td>\n",
              "      <td>Happy, Melody</td>\n",
              "      <td>Sunflower - spiderman, post malone</td>\n",
              "      <td>Mood fixing</td>\n",
              "      <td>NaN</td>\n",
              "      <td>Relaxing and calm</td>\n",
              "      <td>NaN</td>\n",
              "    </tr>\n",
              "    <tr>\n",
              "      <th>1</th>\n",
              "      <td>21 - 25</td>\n",
              "      <td>Female</td>\n",
              "      <td>Introvert</td>\n",
              "      <td>SriLankan</td>\n",
              "      <td>Kandy</td>\n",
              "      <td>Singing, painting, reading</td>\n",
              "      <td>Student</td>\n",
              "      <td>2</td>\n",
              "      <td>Working/ studying from Home</td>\n",
              "      <td>9</td>\n",
              "      <td>...</td>\n",
              "      <td>No</td>\n",
              "      <td>YouTube</td>\n",
              "      <td>No</td>\n",
              "      <td>No</td>\n",
              "      <td>Don't listen to any music</td>\n",
              "      <td>I don’t listen to music when I’m happy</td>\n",
              "      <td>Sad</td>\n",
              "      <td>Old Sinhala songs</td>\n",
              "      <td>Don't listen to any music</td>\n",
              "      <td>NaN</td>\n",
              "    </tr>\n",
              "    <tr>\n",
              "      <th>2</th>\n",
              "      <td>31 - 35</td>\n",
              "      <td>Male</td>\n",
              "      <td>Ambivert</td>\n",
              "      <td>Sri Lankan</td>\n",
              "      <td>Colombo</td>\n",
              "      <td>Guitar, Piano, Singing, Writing</td>\n",
              "      <td>Engineer/ Teacher</td>\n",
              "      <td>8-10 hours</td>\n",
              "      <td>Hybrid</td>\n",
              "      <td>1</td>\n",
              "      <td>...</td>\n",
              "      <td>Yes</td>\n",
              "      <td>YouTube</td>\n",
              "      <td>No</td>\n",
              "      <td>NaN</td>\n",
              "      <td>Happy</td>\n",
              "      <td>Now: \"Nee Kavithaigala\"</td>\n",
              "      <td>Happy</td>\n",
              "      <td>\"Nenje Nenje Maranthuvidu\"</td>\n",
              "      <td>Relaxing and calm</td>\n",
              "      <td>\"Janagana mana\"</td>\n",
              "    </tr>\n",
              "    <tr>\n",
              "      <th>3</th>\n",
              "      <td>21 - 25</td>\n",
              "      <td>Female</td>\n",
              "      <td>Extrovert</td>\n",
              "      <td>Sri Lankan</td>\n",
              "      <td>Warakapola</td>\n",
              "      <td>Listening songs &amp; music</td>\n",
              "      <td>University Student</td>\n",
              "      <td>8</td>\n",
              "      <td>Working/ studying from Home</td>\n",
              "      <td>5</td>\n",
              "      <td>...</td>\n",
              "      <td>Yes</td>\n",
              "      <td>Other</td>\n",
              "      <td>No</td>\n",
              "      <td>NaN</td>\n",
              "      <td>Happy</td>\n",
              "      <td>NaN</td>\n",
              "      <td>Mood fixing</td>\n",
              "      <td>NaN</td>\n",
              "      <td>Relaxing and calm</td>\n",
              "      <td>NaN</td>\n",
              "    </tr>\n",
              "    <tr>\n",
              "      <th>4</th>\n",
              "      <td>26 - 30</td>\n",
              "      <td>Female</td>\n",
              "      <td>Introvert</td>\n",
              "      <td>Sinhalese</td>\n",
              "      <td>Kandy</td>\n",
              "      <td>Listening to Music, Walking, Reading, Watching...</td>\n",
              "      <td>Student, Associate software engineer</td>\n",
              "      <td>8hrs</td>\n",
              "      <td>Hybrid</td>\n",
              "      <td>8</td>\n",
              "      <td>...</td>\n",
              "      <td>Yes</td>\n",
              "      <td>Spotify</td>\n",
              "      <td>No</td>\n",
              "      <td>NaN</td>\n",
              "      <td>Happy, Hyper</td>\n",
              "      <td>NaN</td>\n",
              "      <td>The music which make you boost up, Happy, Mood...</td>\n",
              "      <td>NaN</td>\n",
              "      <td>Don't listen to any music</td>\n",
              "      <td>NaN</td>\n",
              "    </tr>\n",
              "    <tr>\n",
              "      <th>...</th>\n",
              "      <td>...</td>\n",
              "      <td>...</td>\n",
              "      <td>...</td>\n",
              "      <td>...</td>\n",
              "      <td>...</td>\n",
              "      <td>...</td>\n",
              "      <td>...</td>\n",
              "      <td>...</td>\n",
              "      <td>...</td>\n",
              "      <td>...</td>\n",
              "      <td>...</td>\n",
              "      <td>...</td>\n",
              "      <td>...</td>\n",
              "      <td>...</td>\n",
              "      <td>...</td>\n",
              "      <td>...</td>\n",
              "      <td>...</td>\n",
              "      <td>...</td>\n",
              "      <td>...</td>\n",
              "      <td>...</td>\n",
              "      <td>...</td>\n",
              "    </tr>\n",
              "    <tr>\n",
              "      <th>130</th>\n",
              "      <td>51 or above</td>\n",
              "      <td>Female</td>\n",
              "      <td>Ambivert</td>\n",
              "      <td>Sri Lankan</td>\n",
              "      <td>Kegalle</td>\n",
              "      <td>Watching TV, Listening to Music</td>\n",
              "      <td>Teaching</td>\n",
              "      <td>8</td>\n",
              "      <td>Working/ studying from Office or school</td>\n",
              "      <td>4</td>\n",
              "      <td>...</td>\n",
              "      <td>Yes</td>\n",
              "      <td>YouTube</td>\n",
              "      <td>No</td>\n",
              "      <td>NaN</td>\n",
              "      <td>Happy</td>\n",
              "      <td>Songs of T.M. Jayarathna, Sunil Edirisinghe</td>\n",
              "      <td>Don't listen to any music</td>\n",
              "      <td>NaN</td>\n",
              "      <td>Don't listen to any music</td>\n",
              "      <td>NaN</td>\n",
              "    </tr>\n",
              "    <tr>\n",
              "      <th>131</th>\n",
              "      <td>26 - 30</td>\n",
              "      <td>Male</td>\n",
              "      <td>Ambivert</td>\n",
              "      <td>Srilankan</td>\n",
              "      <td>Kegalle</td>\n",
              "      <td>Thinking and Designing</td>\n",
              "      <td>Architect</td>\n",
              "      <td>18 hrs</td>\n",
              "      <td>Hybrid</td>\n",
              "      <td>7</td>\n",
              "      <td>...</td>\n",
              "      <td>No</td>\n",
              "      <td>YouTube</td>\n",
              "      <td>No</td>\n",
              "      <td>NaN</td>\n",
              "      <td>Happy</td>\n",
              "      <td>Something Just Like This - Coldplay and The Ch...</td>\n",
              "      <td>The music which make you boost up, Happy</td>\n",
              "      <td>Something Just Like This - Coldplay and The Ch...</td>\n",
              "      <td>Relaxing and calm</td>\n",
              "      <td>Something Just Like This - Coldplay and The Ch...</td>\n",
              "    </tr>\n",
              "    <tr>\n",
              "      <th>132</th>\n",
              "      <td>21 - 25</td>\n",
              "      <td>Female</td>\n",
              "      <td>Extrovert</td>\n",
              "      <td>Sri lankan</td>\n",
              "      <td>Kadawatha</td>\n",
              "      <td>LiListening to music , dancing , food testing</td>\n",
              "      <td>Student</td>\n",
              "      <td>8 hours</td>\n",
              "      <td>Hybrid</td>\n",
              "      <td>7</td>\n",
              "      <td>...</td>\n",
              "      <td>Yes</td>\n",
              "      <td>Spotify</td>\n",
              "      <td>Yes</td>\n",
              "      <td>Spotify</td>\n",
              "      <td>Happy, Rock</td>\n",
              "      <td>Title /stero</td>\n",
              "      <td>The music which make you boost up, Happy, Mood...</td>\n",
              "      <td>Karnatic</td>\n",
              "      <td>Angry</td>\n",
              "      <td>Dark hours - katty perry</td>\n",
              "    </tr>\n",
              "    <tr>\n",
              "      <th>133</th>\n",
              "      <td>21 - 25</td>\n",
              "      <td>Female</td>\n",
              "      <td>Ambivert</td>\n",
              "      <td>Srilankan</td>\n",
              "      <td>Ruwanwella</td>\n",
              "      <td>Cooking, Gardening, Watching movies, Reading n...</td>\n",
              "      <td>Until Studying</td>\n",
              "      <td>Minimum 4 hours</td>\n",
              "      <td>Working/ studying from Office or school</td>\n",
              "      <td>6</td>\n",
              "      <td>...</td>\n",
              "      <td>Yes</td>\n",
              "      <td>Google Music</td>\n",
              "      <td>No</td>\n",
              "      <td>NaN</td>\n",
              "      <td>Happy, Hyper</td>\n",
              "      <td>Sanda kumari mage manali- Nadee \\nAlawantha ne...</td>\n",
              "      <td>Sad</td>\n",
              "      <td>Santhana susum dawata- Suneera\\nMal onchilla- ...</td>\n",
              "      <td>Don't listen to any music</td>\n",
              "      <td>NaN</td>\n",
              "    </tr>\n",
              "    <tr>\n",
              "      <th>134</th>\n",
              "      <td>26 - 30</td>\n",
              "      <td>Male</td>\n",
              "      <td>Extrovert</td>\n",
              "      <td>Sri Lankan</td>\n",
              "      <td>Kegalle</td>\n",
              "      <td>Traveling, listen to music, playing video games</td>\n",
              "      <td>Marketing</td>\n",
              "      <td>9 hrs 30 min</td>\n",
              "      <td>Hybrid</td>\n",
              "      <td>3</td>\n",
              "      <td>...</td>\n",
              "      <td>Yes</td>\n",
              "      <td>Spotify</td>\n",
              "      <td>No</td>\n",
              "      <td>NaN</td>\n",
              "      <td>Happy, Hyper</td>\n",
              "      <td>Blinding lights,/star boy- weeknd, sangria- bl...</td>\n",
              "      <td>The music which make you boost up, Happy, Mood...</td>\n",
              "      <td>Yanni’s music</td>\n",
              "      <td>Relaxing and calm, Angry</td>\n",
              "      <td>Not afraid- eminem, November rain- guns and roses</td>\n",
              "    </tr>\n",
              "  </tbody>\n",
              "</table>\n",
              "<p>135 rows × 27 columns</p>\n",
              "</div>\n",
              "      <button class=\"colab-df-convert\" onclick=\"convertToInteractive('df-36cbdccd-eaf3-487c-a7a4-c8efbaffedf2')\"\n",
              "              title=\"Convert this dataframe to an interactive table.\"\n",
              "              style=\"display:none;\">\n",
              "        \n",
              "  <svg xmlns=\"http://www.w3.org/2000/svg\" height=\"24px\"viewBox=\"0 0 24 24\"\n",
              "       width=\"24px\">\n",
              "    <path d=\"M0 0h24v24H0V0z\" fill=\"none\"/>\n",
              "    <path d=\"M18.56 5.44l.94 2.06.94-2.06 2.06-.94-2.06-.94-.94-2.06-.94 2.06-2.06.94zm-11 1L8.5 8.5l.94-2.06 2.06-.94-2.06-.94L8.5 2.5l-.94 2.06-2.06.94zm10 10l.94 2.06.94-2.06 2.06-.94-2.06-.94-.94-2.06-.94 2.06-2.06.94z\"/><path d=\"M17.41 7.96l-1.37-1.37c-.4-.4-.92-.59-1.43-.59-.52 0-1.04.2-1.43.59L10.3 9.45l-7.72 7.72c-.78.78-.78 2.05 0 2.83L4 21.41c.39.39.9.59 1.41.59.51 0 1.02-.2 1.41-.59l7.78-7.78 2.81-2.81c.8-.78.8-2.07 0-2.86zM5.41 20L4 18.59l7.72-7.72 1.47 1.35L5.41 20z\"/>\n",
              "  </svg>\n",
              "      </button>\n",
              "      \n",
              "  <style>\n",
              "    .colab-df-container {\n",
              "      display:flex;\n",
              "      flex-wrap:wrap;\n",
              "      gap: 12px;\n",
              "    }\n",
              "\n",
              "    .colab-df-convert {\n",
              "      background-color: #E8F0FE;\n",
              "      border: none;\n",
              "      border-radius: 50%;\n",
              "      cursor: pointer;\n",
              "      display: none;\n",
              "      fill: #1967D2;\n",
              "      height: 32px;\n",
              "      padding: 0 0 0 0;\n",
              "      width: 32px;\n",
              "    }\n",
              "\n",
              "    .colab-df-convert:hover {\n",
              "      background-color: #E2EBFA;\n",
              "      box-shadow: 0px 1px 2px rgba(60, 64, 67, 0.3), 0px 1px 3px 1px rgba(60, 64, 67, 0.15);\n",
              "      fill: #174EA6;\n",
              "    }\n",
              "\n",
              "    [theme=dark] .colab-df-convert {\n",
              "      background-color: #3B4455;\n",
              "      fill: #D2E3FC;\n",
              "    }\n",
              "\n",
              "    [theme=dark] .colab-df-convert:hover {\n",
              "      background-color: #434B5C;\n",
              "      box-shadow: 0px 1px 3px 1px rgba(0, 0, 0, 0.15);\n",
              "      filter: drop-shadow(0px 1px 2px rgba(0, 0, 0, 0.3));\n",
              "      fill: #FFFFFF;\n",
              "    }\n",
              "  </style>\n",
              "\n",
              "      <script>\n",
              "        const buttonEl =\n",
              "          document.querySelector('#df-36cbdccd-eaf3-487c-a7a4-c8efbaffedf2 button.colab-df-convert');\n",
              "        buttonEl.style.display =\n",
              "          google.colab.kernel.accessAllowed ? 'block' : 'none';\n",
              "\n",
              "        async function convertToInteractive(key) {\n",
              "          const element = document.querySelector('#df-36cbdccd-eaf3-487c-a7a4-c8efbaffedf2');\n",
              "          const dataTable =\n",
              "            await google.colab.kernel.invokeFunction('convertToInteractive',\n",
              "                                                     [key], {});\n",
              "          if (!dataTable) return;\n",
              "\n",
              "          const docLinkHtml = 'Like what you see? Visit the ' +\n",
              "            '<a target=\"_blank\" href=https://colab.research.google.com/notebooks/data_table.ipynb>data table notebook</a>'\n",
              "            + ' to learn more about interactive tables.';\n",
              "          element.innerHTML = '';\n",
              "          dataTable['output_type'] = 'display_data';\n",
              "          await google.colab.output.renderOutput(dataTable, element);\n",
              "          const docLink = document.createElement('div');\n",
              "          docLink.innerHTML = docLinkHtml;\n",
              "          element.appendChild(docLink);\n",
              "        }\n",
              "      </script>\n",
              "    </div>\n",
              "  </div>\n",
              "  "
            ]
          },
          "metadata": {},
          "execution_count": 23
        }
      ]
    },
    {
      "cell_type": "markdown",
      "source": [
        "# **Song Moods Dataset**"
      ],
      "metadata": {
        "id": "CJ7rXVDcqwzj"
      }
    },
    {
      "cell_type": "markdown",
      "source": [
        "**Import Data**\n"
      ],
      "metadata": {
        "id": "_jq33PUmq0k5"
      }
    },
    {
      "cell_type": "code",
      "source": [
        "songs = pd.read_csv('/content/drive/MyDrive/FYP /New_datasets/Song_moods.csv')"
      ],
      "metadata": {
        "id": "iqUUMpKppvr4"
      },
      "execution_count": null,
      "outputs": []
    },
    {
      "cell_type": "code",
      "source": [
        "songs.head()"
      ],
      "metadata": {
        "colab": {
          "base_uri": "https://localhost:8080/",
          "height": 391
        },
        "id": "NklqiyEZqSuI",
        "outputId": "3157d89b-8aee-4f1e-ea3f-2c2598278fdd"
      },
      "execution_count": null,
      "outputs": [
        {
          "output_type": "execute_result",
          "data": {
            "text/plain": [
              "                                          name                        album  \\\n",
              "0                                         1999                         1999   \n",
              "1                                           23                           23   \n",
              "2                                     9 Crimes                            9   \n",
              "3                               99 Luftballons               99 Luftballons   \n",
              "4  A Boy Brushed Red Living In Black And White  They're Only Chasing Safety   \n",
              "\n",
              "           artist                      id release_date  popularity  length  \\\n",
              "0          Prince  2H7PHVdQ3mXqEHXcvclTB0   1982-10-27          68  379266   \n",
              "1  Blonde Redhead  4HIwL9ii9CcXpTOTzMq0MP   2007-04-16          43  318800   \n",
              "2     Damien Rice  5GZEeowhvSieFDiR8fQ2im   2006-11-06          60  217946   \n",
              "3            Nena  6HA97v4wEGQ5TUClRM0XLc   1984-08-21           2  233000   \n",
              "4       Underoath  47IWLfIKOKhFnz1FUEUIkE   2004-01-01          60  268000   \n",
              "\n",
              "   danceability  acousticness  energy  instrumentalness  liveness  valence  \\\n",
              "0         0.866       0.13700   0.730          0.000000    0.0843    0.625   \n",
              "1         0.381       0.01890   0.832          0.196000    0.1530    0.166   \n",
              "2         0.346       0.91300   0.139          0.000077    0.0934    0.116   \n",
              "3         0.466       0.08900   0.438          0.000006    0.1130    0.587   \n",
              "4         0.419       0.00171   0.932          0.000000    0.1370    0.445   \n",
              "\n",
              "   loudness  speechiness    tempo  key  time_signature       mood  \n",
              "0    -8.201       0.0767  118.523    5               4      Happy  \n",
              "1    -5.069       0.0492  120.255    8               4        Sad  \n",
              "2   -15.326       0.0321  136.168    0               4        Sad  \n",
              "3   -12.858       0.0608  193.100    4               4      Happy  \n",
              "4    -3.604       0.1060  169.881    1               4  Energetic  "
            ],
            "text/html": [
              "\n",
              "  <div id=\"df-c50c5a45-d78e-4d77-a50c-ec6063af766f\">\n",
              "    <div class=\"colab-df-container\">\n",
              "      <div>\n",
              "<style scoped>\n",
              "    .dataframe tbody tr th:only-of-type {\n",
              "        vertical-align: middle;\n",
              "    }\n",
              "\n",
              "    .dataframe tbody tr th {\n",
              "        vertical-align: top;\n",
              "    }\n",
              "\n",
              "    .dataframe thead th {\n",
              "        text-align: right;\n",
              "    }\n",
              "</style>\n",
              "<table border=\"1\" class=\"dataframe\">\n",
              "  <thead>\n",
              "    <tr style=\"text-align: right;\">\n",
              "      <th></th>\n",
              "      <th>name</th>\n",
              "      <th>album</th>\n",
              "      <th>artist</th>\n",
              "      <th>id</th>\n",
              "      <th>release_date</th>\n",
              "      <th>popularity</th>\n",
              "      <th>length</th>\n",
              "      <th>danceability</th>\n",
              "      <th>acousticness</th>\n",
              "      <th>energy</th>\n",
              "      <th>instrumentalness</th>\n",
              "      <th>liveness</th>\n",
              "      <th>valence</th>\n",
              "      <th>loudness</th>\n",
              "      <th>speechiness</th>\n",
              "      <th>tempo</th>\n",
              "      <th>key</th>\n",
              "      <th>time_signature</th>\n",
              "      <th>mood</th>\n",
              "    </tr>\n",
              "  </thead>\n",
              "  <tbody>\n",
              "    <tr>\n",
              "      <th>0</th>\n",
              "      <td>1999</td>\n",
              "      <td>1999</td>\n",
              "      <td>Prince</td>\n",
              "      <td>2H7PHVdQ3mXqEHXcvclTB0</td>\n",
              "      <td>1982-10-27</td>\n",
              "      <td>68</td>\n",
              "      <td>379266</td>\n",
              "      <td>0.866</td>\n",
              "      <td>0.13700</td>\n",
              "      <td>0.730</td>\n",
              "      <td>0.000000</td>\n",
              "      <td>0.0843</td>\n",
              "      <td>0.625</td>\n",
              "      <td>-8.201</td>\n",
              "      <td>0.0767</td>\n",
              "      <td>118.523</td>\n",
              "      <td>5</td>\n",
              "      <td>4</td>\n",
              "      <td>Happy</td>\n",
              "    </tr>\n",
              "    <tr>\n",
              "      <th>1</th>\n",
              "      <td>23</td>\n",
              "      <td>23</td>\n",
              "      <td>Blonde Redhead</td>\n",
              "      <td>4HIwL9ii9CcXpTOTzMq0MP</td>\n",
              "      <td>2007-04-16</td>\n",
              "      <td>43</td>\n",
              "      <td>318800</td>\n",
              "      <td>0.381</td>\n",
              "      <td>0.01890</td>\n",
              "      <td>0.832</td>\n",
              "      <td>0.196000</td>\n",
              "      <td>0.1530</td>\n",
              "      <td>0.166</td>\n",
              "      <td>-5.069</td>\n",
              "      <td>0.0492</td>\n",
              "      <td>120.255</td>\n",
              "      <td>8</td>\n",
              "      <td>4</td>\n",
              "      <td>Sad</td>\n",
              "    </tr>\n",
              "    <tr>\n",
              "      <th>2</th>\n",
              "      <td>9 Crimes</td>\n",
              "      <td>9</td>\n",
              "      <td>Damien Rice</td>\n",
              "      <td>5GZEeowhvSieFDiR8fQ2im</td>\n",
              "      <td>2006-11-06</td>\n",
              "      <td>60</td>\n",
              "      <td>217946</td>\n",
              "      <td>0.346</td>\n",
              "      <td>0.91300</td>\n",
              "      <td>0.139</td>\n",
              "      <td>0.000077</td>\n",
              "      <td>0.0934</td>\n",
              "      <td>0.116</td>\n",
              "      <td>-15.326</td>\n",
              "      <td>0.0321</td>\n",
              "      <td>136.168</td>\n",
              "      <td>0</td>\n",
              "      <td>4</td>\n",
              "      <td>Sad</td>\n",
              "    </tr>\n",
              "    <tr>\n",
              "      <th>3</th>\n",
              "      <td>99 Luftballons</td>\n",
              "      <td>99 Luftballons</td>\n",
              "      <td>Nena</td>\n",
              "      <td>6HA97v4wEGQ5TUClRM0XLc</td>\n",
              "      <td>1984-08-21</td>\n",
              "      <td>2</td>\n",
              "      <td>233000</td>\n",
              "      <td>0.466</td>\n",
              "      <td>0.08900</td>\n",
              "      <td>0.438</td>\n",
              "      <td>0.000006</td>\n",
              "      <td>0.1130</td>\n",
              "      <td>0.587</td>\n",
              "      <td>-12.858</td>\n",
              "      <td>0.0608</td>\n",
              "      <td>193.100</td>\n",
              "      <td>4</td>\n",
              "      <td>4</td>\n",
              "      <td>Happy</td>\n",
              "    </tr>\n",
              "    <tr>\n",
              "      <th>4</th>\n",
              "      <td>A Boy Brushed Red Living In Black And White</td>\n",
              "      <td>They're Only Chasing Safety</td>\n",
              "      <td>Underoath</td>\n",
              "      <td>47IWLfIKOKhFnz1FUEUIkE</td>\n",
              "      <td>2004-01-01</td>\n",
              "      <td>60</td>\n",
              "      <td>268000</td>\n",
              "      <td>0.419</td>\n",
              "      <td>0.00171</td>\n",
              "      <td>0.932</td>\n",
              "      <td>0.000000</td>\n",
              "      <td>0.1370</td>\n",
              "      <td>0.445</td>\n",
              "      <td>-3.604</td>\n",
              "      <td>0.1060</td>\n",
              "      <td>169.881</td>\n",
              "      <td>1</td>\n",
              "      <td>4</td>\n",
              "      <td>Energetic</td>\n",
              "    </tr>\n",
              "  </tbody>\n",
              "</table>\n",
              "</div>\n",
              "      <button class=\"colab-df-convert\" onclick=\"convertToInteractive('df-c50c5a45-d78e-4d77-a50c-ec6063af766f')\"\n",
              "              title=\"Convert this dataframe to an interactive table.\"\n",
              "              style=\"display:none;\">\n",
              "        \n",
              "  <svg xmlns=\"http://www.w3.org/2000/svg\" height=\"24px\"viewBox=\"0 0 24 24\"\n",
              "       width=\"24px\">\n",
              "    <path d=\"M0 0h24v24H0V0z\" fill=\"none\"/>\n",
              "    <path d=\"M18.56 5.44l.94 2.06.94-2.06 2.06-.94-2.06-.94-.94-2.06-.94 2.06-2.06.94zm-11 1L8.5 8.5l.94-2.06 2.06-.94-2.06-.94L8.5 2.5l-.94 2.06-2.06.94zm10 10l.94 2.06.94-2.06 2.06-.94-2.06-.94-.94-2.06-.94 2.06-2.06.94z\"/><path d=\"M17.41 7.96l-1.37-1.37c-.4-.4-.92-.59-1.43-.59-.52 0-1.04.2-1.43.59L10.3 9.45l-7.72 7.72c-.78.78-.78 2.05 0 2.83L4 21.41c.39.39.9.59 1.41.59.51 0 1.02-.2 1.41-.59l7.78-7.78 2.81-2.81c.8-.78.8-2.07 0-2.86zM5.41 20L4 18.59l7.72-7.72 1.47 1.35L5.41 20z\"/>\n",
              "  </svg>\n",
              "      </button>\n",
              "      \n",
              "  <style>\n",
              "    .colab-df-container {\n",
              "      display:flex;\n",
              "      flex-wrap:wrap;\n",
              "      gap: 12px;\n",
              "    }\n",
              "\n",
              "    .colab-df-convert {\n",
              "      background-color: #E8F0FE;\n",
              "      border: none;\n",
              "      border-radius: 50%;\n",
              "      cursor: pointer;\n",
              "      display: none;\n",
              "      fill: #1967D2;\n",
              "      height: 32px;\n",
              "      padding: 0 0 0 0;\n",
              "      width: 32px;\n",
              "    }\n",
              "\n",
              "    .colab-df-convert:hover {\n",
              "      background-color: #E2EBFA;\n",
              "      box-shadow: 0px 1px 2px rgba(60, 64, 67, 0.3), 0px 1px 3px 1px rgba(60, 64, 67, 0.15);\n",
              "      fill: #174EA6;\n",
              "    }\n",
              "\n",
              "    [theme=dark] .colab-df-convert {\n",
              "      background-color: #3B4455;\n",
              "      fill: #D2E3FC;\n",
              "    }\n",
              "\n",
              "    [theme=dark] .colab-df-convert:hover {\n",
              "      background-color: #434B5C;\n",
              "      box-shadow: 0px 1px 3px 1px rgba(0, 0, 0, 0.15);\n",
              "      filter: drop-shadow(0px 1px 2px rgba(0, 0, 0, 0.3));\n",
              "      fill: #FFFFFF;\n",
              "    }\n",
              "  </style>\n",
              "\n",
              "      <script>\n",
              "        const buttonEl =\n",
              "          document.querySelector('#df-c50c5a45-d78e-4d77-a50c-ec6063af766f button.colab-df-convert');\n",
              "        buttonEl.style.display =\n",
              "          google.colab.kernel.accessAllowed ? 'block' : 'none';\n",
              "\n",
              "        async function convertToInteractive(key) {\n",
              "          const element = document.querySelector('#df-c50c5a45-d78e-4d77-a50c-ec6063af766f');\n",
              "          const dataTable =\n",
              "            await google.colab.kernel.invokeFunction('convertToInteractive',\n",
              "                                                     [key], {});\n",
              "          if (!dataTable) return;\n",
              "\n",
              "          const docLinkHtml = 'Like what you see? Visit the ' +\n",
              "            '<a target=\"_blank\" href=https://colab.research.google.com/notebooks/data_table.ipynb>data table notebook</a>'\n",
              "            + ' to learn more about interactive tables.';\n",
              "          element.innerHTML = '';\n",
              "          dataTable['output_type'] = 'display_data';\n",
              "          await google.colab.output.renderOutput(dataTable, element);\n",
              "          const docLink = document.createElement('div');\n",
              "          docLink.innerHTML = docLinkHtml;\n",
              "          element.appendChild(docLink);\n",
              "        }\n",
              "      </script>\n",
              "    </div>\n",
              "  </div>\n",
              "  "
            ]
          },
          "metadata": {},
          "execution_count": 25
        }
      ]
    },
    {
      "cell_type": "markdown",
      "source": [
        "**Size of the Dataset**"
      ],
      "metadata": {
        "id": "7lJbPu8DR1Xl"
      }
    },
    {
      "cell_type": "code",
      "source": [
        "songs.shape"
      ],
      "metadata": {
        "colab": {
          "base_uri": "https://localhost:8080/"
        },
        "id": "wonSQOeMqcjz",
        "outputId": "0de17660-dc2b-49af-cfb2-4fa97cb6ff76"
      },
      "execution_count": null,
      "outputs": [
        {
          "output_type": "execute_result",
          "data": {
            "text/plain": [
              "(686, 19)"
            ]
          },
          "metadata": {},
          "execution_count": 26
        }
      ]
    },
    {
      "cell_type": "markdown",
      "source": [
        "**Data Columns**"
      ],
      "metadata": {
        "id": "NVDHrpX5R6WS"
      }
    },
    {
      "cell_type": "code",
      "source": [
        "songs.info()"
      ],
      "metadata": {
        "colab": {
          "base_uri": "https://localhost:8080/"
        },
        "id": "hx7QeOnnrlz6",
        "outputId": "e221d783-16f5-46f0-c396-c34b2cf6e59f"
      },
      "execution_count": null,
      "outputs": [
        {
          "output_type": "stream",
          "name": "stdout",
          "text": [
            "<class 'pandas.core.frame.DataFrame'>\n",
            "RangeIndex: 686 entries, 0 to 685\n",
            "Data columns (total 19 columns):\n",
            " #   Column            Non-Null Count  Dtype  \n",
            "---  ------            --------------  -----  \n",
            " 0   name              686 non-null    object \n",
            " 1   album             686 non-null    object \n",
            " 2   artist            686 non-null    object \n",
            " 3   id                686 non-null    object \n",
            " 4   release_date      686 non-null    object \n",
            " 5   popularity        686 non-null    int64  \n",
            " 6   length            686 non-null    int64  \n",
            " 7   danceability      686 non-null    float64\n",
            " 8   acousticness      686 non-null    float64\n",
            " 9   energy            686 non-null    float64\n",
            " 10  instrumentalness  686 non-null    float64\n",
            " 11  liveness          686 non-null    float64\n",
            " 12  valence           686 non-null    float64\n",
            " 13  loudness          686 non-null    float64\n",
            " 14  speechiness       686 non-null    float64\n",
            " 15  tempo             686 non-null    float64\n",
            " 16  key               686 non-null    int64  \n",
            " 17  time_signature    686 non-null    int64  \n",
            " 18  mood              686 non-null    object \n",
            "dtypes: float64(9), int64(4), object(6)\n",
            "memory usage: 102.0+ KB\n"
          ]
        }
      ]
    },
    {
      "cell_type": "markdown",
      "source": [
        "**Description of the DataFrame**"
      ],
      "metadata": {
        "id": "zAUb7nBpjXRK"
      }
    },
    {
      "cell_type": "code",
      "source": [
        "songs.describe()"
      ],
      "metadata": {
        "colab": {
          "base_uri": "https://localhost:8080/",
          "height": 300
        },
        "id": "8YHv39RBjMQ9",
        "outputId": "a540a6d6-5b64-467f-f002-26e18b3cf1d4"
      },
      "execution_count": null,
      "outputs": [
        {
          "output_type": "execute_result",
          "data": {
            "text/plain": [
              "       popularity         length  danceability  acousticness      energy  \\\n",
              "count  686.000000     686.000000    686.000000    686.000000  686.000000   \n",
              "mean    41.534985  221791.485423      0.500553      0.449749    0.507693   \n",
              "std     23.045707   63399.058492      0.158955      0.410729    0.326490   \n",
              "min      0.000000   76773.000000      0.078900      0.000005    0.001290   \n",
              "25%     30.000000  179114.500000      0.388000      0.014825    0.202000   \n",
              "50%     47.000000  213273.000000      0.505000      0.359000    0.495500   \n",
              "75%     57.000000  254569.750000      0.612000      0.905750    0.844000   \n",
              "max     88.000000  518373.000000      0.941000      0.996000    0.994000   \n",
              "\n",
              "       instrumentalness    liveness     valence    loudness  speechiness  \\\n",
              "count        686.000000  686.000000  686.000000  686.000000   686.000000   \n",
              "mean           0.349610    0.166867    0.342438  -11.531020     0.053946   \n",
              "std            0.410517    0.142128    0.252304    7.468629     0.041374   \n",
              "min            0.000000    0.031800    0.035300  -42.018000     0.023200   \n",
              "25%            0.000034    0.092500    0.131250  -15.858750     0.033200   \n",
              "50%            0.026350    0.111000    0.282000   -9.358000     0.040700   \n",
              "75%            0.858250    0.173750    0.508750   -5.634500     0.057375   \n",
              "max            0.966000    0.963000    0.977000    1.342000     0.416000   \n",
              "\n",
              "            tempo         key  time_signature  \n",
              "count  686.000000  686.000000      686.000000  \n",
              "mean   119.134679    5.335277        3.870262  \n",
              "std     28.978685    3.550858        0.500297  \n",
              "min     50.960000    0.000000        1.000000  \n",
              "25%     99.008750    2.000000        4.000000  \n",
              "50%    120.071000    6.000000        4.000000  \n",
              "75%    132.953250    9.000000        4.000000  \n",
              "max    217.950000   11.000000        5.000000  "
            ],
            "text/html": [
              "\n",
              "  <div id=\"df-c68c3907-dcc4-481d-8f37-1cc65cb805a6\">\n",
              "    <div class=\"colab-df-container\">\n",
              "      <div>\n",
              "<style scoped>\n",
              "    .dataframe tbody tr th:only-of-type {\n",
              "        vertical-align: middle;\n",
              "    }\n",
              "\n",
              "    .dataframe tbody tr th {\n",
              "        vertical-align: top;\n",
              "    }\n",
              "\n",
              "    .dataframe thead th {\n",
              "        text-align: right;\n",
              "    }\n",
              "</style>\n",
              "<table border=\"1\" class=\"dataframe\">\n",
              "  <thead>\n",
              "    <tr style=\"text-align: right;\">\n",
              "      <th></th>\n",
              "      <th>popularity</th>\n",
              "      <th>length</th>\n",
              "      <th>danceability</th>\n",
              "      <th>acousticness</th>\n",
              "      <th>energy</th>\n",
              "      <th>instrumentalness</th>\n",
              "      <th>liveness</th>\n",
              "      <th>valence</th>\n",
              "      <th>loudness</th>\n",
              "      <th>speechiness</th>\n",
              "      <th>tempo</th>\n",
              "      <th>key</th>\n",
              "      <th>time_signature</th>\n",
              "    </tr>\n",
              "  </thead>\n",
              "  <tbody>\n",
              "    <tr>\n",
              "      <th>count</th>\n",
              "      <td>686.000000</td>\n",
              "      <td>686.000000</td>\n",
              "      <td>686.000000</td>\n",
              "      <td>686.000000</td>\n",
              "      <td>686.000000</td>\n",
              "      <td>686.000000</td>\n",
              "      <td>686.000000</td>\n",
              "      <td>686.000000</td>\n",
              "      <td>686.000000</td>\n",
              "      <td>686.000000</td>\n",
              "      <td>686.000000</td>\n",
              "      <td>686.000000</td>\n",
              "      <td>686.000000</td>\n",
              "    </tr>\n",
              "    <tr>\n",
              "      <th>mean</th>\n",
              "      <td>41.534985</td>\n",
              "      <td>221791.485423</td>\n",
              "      <td>0.500553</td>\n",
              "      <td>0.449749</td>\n",
              "      <td>0.507693</td>\n",
              "      <td>0.349610</td>\n",
              "      <td>0.166867</td>\n",
              "      <td>0.342438</td>\n",
              "      <td>-11.531020</td>\n",
              "      <td>0.053946</td>\n",
              "      <td>119.134679</td>\n",
              "      <td>5.335277</td>\n",
              "      <td>3.870262</td>\n",
              "    </tr>\n",
              "    <tr>\n",
              "      <th>std</th>\n",
              "      <td>23.045707</td>\n",
              "      <td>63399.058492</td>\n",
              "      <td>0.158955</td>\n",
              "      <td>0.410729</td>\n",
              "      <td>0.326490</td>\n",
              "      <td>0.410517</td>\n",
              "      <td>0.142128</td>\n",
              "      <td>0.252304</td>\n",
              "      <td>7.468629</td>\n",
              "      <td>0.041374</td>\n",
              "      <td>28.978685</td>\n",
              "      <td>3.550858</td>\n",
              "      <td>0.500297</td>\n",
              "    </tr>\n",
              "    <tr>\n",
              "      <th>min</th>\n",
              "      <td>0.000000</td>\n",
              "      <td>76773.000000</td>\n",
              "      <td>0.078900</td>\n",
              "      <td>0.000005</td>\n",
              "      <td>0.001290</td>\n",
              "      <td>0.000000</td>\n",
              "      <td>0.031800</td>\n",
              "      <td>0.035300</td>\n",
              "      <td>-42.018000</td>\n",
              "      <td>0.023200</td>\n",
              "      <td>50.960000</td>\n",
              "      <td>0.000000</td>\n",
              "      <td>1.000000</td>\n",
              "    </tr>\n",
              "    <tr>\n",
              "      <th>25%</th>\n",
              "      <td>30.000000</td>\n",
              "      <td>179114.500000</td>\n",
              "      <td>0.388000</td>\n",
              "      <td>0.014825</td>\n",
              "      <td>0.202000</td>\n",
              "      <td>0.000034</td>\n",
              "      <td>0.092500</td>\n",
              "      <td>0.131250</td>\n",
              "      <td>-15.858750</td>\n",
              "      <td>0.033200</td>\n",
              "      <td>99.008750</td>\n",
              "      <td>2.000000</td>\n",
              "      <td>4.000000</td>\n",
              "    </tr>\n",
              "    <tr>\n",
              "      <th>50%</th>\n",
              "      <td>47.000000</td>\n",
              "      <td>213273.000000</td>\n",
              "      <td>0.505000</td>\n",
              "      <td>0.359000</td>\n",
              "      <td>0.495500</td>\n",
              "      <td>0.026350</td>\n",
              "      <td>0.111000</td>\n",
              "      <td>0.282000</td>\n",
              "      <td>-9.358000</td>\n",
              "      <td>0.040700</td>\n",
              "      <td>120.071000</td>\n",
              "      <td>6.000000</td>\n",
              "      <td>4.000000</td>\n",
              "    </tr>\n",
              "    <tr>\n",
              "      <th>75%</th>\n",
              "      <td>57.000000</td>\n",
              "      <td>254569.750000</td>\n",
              "      <td>0.612000</td>\n",
              "      <td>0.905750</td>\n",
              "      <td>0.844000</td>\n",
              "      <td>0.858250</td>\n",
              "      <td>0.173750</td>\n",
              "      <td>0.508750</td>\n",
              "      <td>-5.634500</td>\n",
              "      <td>0.057375</td>\n",
              "      <td>132.953250</td>\n",
              "      <td>9.000000</td>\n",
              "      <td>4.000000</td>\n",
              "    </tr>\n",
              "    <tr>\n",
              "      <th>max</th>\n",
              "      <td>88.000000</td>\n",
              "      <td>518373.000000</td>\n",
              "      <td>0.941000</td>\n",
              "      <td>0.996000</td>\n",
              "      <td>0.994000</td>\n",
              "      <td>0.966000</td>\n",
              "      <td>0.963000</td>\n",
              "      <td>0.977000</td>\n",
              "      <td>1.342000</td>\n",
              "      <td>0.416000</td>\n",
              "      <td>217.950000</td>\n",
              "      <td>11.000000</td>\n",
              "      <td>5.000000</td>\n",
              "    </tr>\n",
              "  </tbody>\n",
              "</table>\n",
              "</div>\n",
              "      <button class=\"colab-df-convert\" onclick=\"convertToInteractive('df-c68c3907-dcc4-481d-8f37-1cc65cb805a6')\"\n",
              "              title=\"Convert this dataframe to an interactive table.\"\n",
              "              style=\"display:none;\">\n",
              "        \n",
              "  <svg xmlns=\"http://www.w3.org/2000/svg\" height=\"24px\"viewBox=\"0 0 24 24\"\n",
              "       width=\"24px\">\n",
              "    <path d=\"M0 0h24v24H0V0z\" fill=\"none\"/>\n",
              "    <path d=\"M18.56 5.44l.94 2.06.94-2.06 2.06-.94-2.06-.94-.94-2.06-.94 2.06-2.06.94zm-11 1L8.5 8.5l.94-2.06 2.06-.94-2.06-.94L8.5 2.5l-.94 2.06-2.06.94zm10 10l.94 2.06.94-2.06 2.06-.94-2.06-.94-.94-2.06-.94 2.06-2.06.94z\"/><path d=\"M17.41 7.96l-1.37-1.37c-.4-.4-.92-.59-1.43-.59-.52 0-1.04.2-1.43.59L10.3 9.45l-7.72 7.72c-.78.78-.78 2.05 0 2.83L4 21.41c.39.39.9.59 1.41.59.51 0 1.02-.2 1.41-.59l7.78-7.78 2.81-2.81c.8-.78.8-2.07 0-2.86zM5.41 20L4 18.59l7.72-7.72 1.47 1.35L5.41 20z\"/>\n",
              "  </svg>\n",
              "      </button>\n",
              "      \n",
              "  <style>\n",
              "    .colab-df-container {\n",
              "      display:flex;\n",
              "      flex-wrap:wrap;\n",
              "      gap: 12px;\n",
              "    }\n",
              "\n",
              "    .colab-df-convert {\n",
              "      background-color: #E8F0FE;\n",
              "      border: none;\n",
              "      border-radius: 50%;\n",
              "      cursor: pointer;\n",
              "      display: none;\n",
              "      fill: #1967D2;\n",
              "      height: 32px;\n",
              "      padding: 0 0 0 0;\n",
              "      width: 32px;\n",
              "    }\n",
              "\n",
              "    .colab-df-convert:hover {\n",
              "      background-color: #E2EBFA;\n",
              "      box-shadow: 0px 1px 2px rgba(60, 64, 67, 0.3), 0px 1px 3px 1px rgba(60, 64, 67, 0.15);\n",
              "      fill: #174EA6;\n",
              "    }\n",
              "\n",
              "    [theme=dark] .colab-df-convert {\n",
              "      background-color: #3B4455;\n",
              "      fill: #D2E3FC;\n",
              "    }\n",
              "\n",
              "    [theme=dark] .colab-df-convert:hover {\n",
              "      background-color: #434B5C;\n",
              "      box-shadow: 0px 1px 3px 1px rgba(0, 0, 0, 0.15);\n",
              "      filter: drop-shadow(0px 1px 2px rgba(0, 0, 0, 0.3));\n",
              "      fill: #FFFFFF;\n",
              "    }\n",
              "  </style>\n",
              "\n",
              "      <script>\n",
              "        const buttonEl =\n",
              "          document.querySelector('#df-c68c3907-dcc4-481d-8f37-1cc65cb805a6 button.colab-df-convert');\n",
              "        buttonEl.style.display =\n",
              "          google.colab.kernel.accessAllowed ? 'block' : 'none';\n",
              "\n",
              "        async function convertToInteractive(key) {\n",
              "          const element = document.querySelector('#df-c68c3907-dcc4-481d-8f37-1cc65cb805a6');\n",
              "          const dataTable =\n",
              "            await google.colab.kernel.invokeFunction('convertToInteractive',\n",
              "                                                     [key], {});\n",
              "          if (!dataTable) return;\n",
              "\n",
              "          const docLinkHtml = 'Like what you see? Visit the ' +\n",
              "            '<a target=\"_blank\" href=https://colab.research.google.com/notebooks/data_table.ipynb>data table notebook</a>'\n",
              "            + ' to learn more about interactive tables.';\n",
              "          element.innerHTML = '';\n",
              "          dataTable['output_type'] = 'display_data';\n",
              "          await google.colab.output.renderOutput(dataTable, element);\n",
              "          const docLink = document.createElement('div');\n",
              "          docLink.innerHTML = docLinkHtml;\n",
              "          element.appendChild(docLink);\n",
              "        }\n",
              "      </script>\n",
              "    </div>\n",
              "  </div>\n",
              "  "
            ]
          },
          "metadata": {},
          "execution_count": 28
        }
      ]
    },
    {
      "cell_type": "markdown",
      "source": [
        "**Checking for missing values**"
      ],
      "metadata": {
        "id": "nkQcTJp1SANF"
      }
    },
    {
      "cell_type": "code",
      "source": [
        "songs.isnull().sum()"
      ],
      "metadata": {
        "colab": {
          "base_uri": "https://localhost:8080/"
        },
        "id": "vU19OW2SsCCw",
        "outputId": "222ff7b0-299c-41a4-b3b3-63ba69740d74"
      },
      "execution_count": null,
      "outputs": [
        {
          "output_type": "execute_result",
          "data": {
            "text/plain": [
              "name                0\n",
              "album               0\n",
              "artist              0\n",
              "id                  0\n",
              "release_date        0\n",
              "popularity          0\n",
              "length              0\n",
              "danceability        0\n",
              "acousticness        0\n",
              "energy              0\n",
              "instrumentalness    0\n",
              "liveness            0\n",
              "valence             0\n",
              "loudness            0\n",
              "speechiness         0\n",
              "tempo               0\n",
              "key                 0\n",
              "time_signature      0\n",
              "mood                0\n",
              "dtype: int64"
            ]
          },
          "metadata": {},
          "execution_count": 29
        }
      ]
    },
    {
      "cell_type": "markdown",
      "source": [
        "**Data Distributions**"
      ],
      "metadata": {
        "id": "q4_RmZMbtCbu"
      }
    },
    {
      "cell_type": "code",
      "source": [
        "sns.countplot(songs['mood'])"
      ],
      "metadata": {
        "colab": {
          "base_uri": "https://localhost:8080/",
          "height": 351
        },
        "id": "8KwVjpaLsmEj",
        "outputId": "4f7cb336-0948-4ab9-dc2e-042f67c14c31"
      },
      "execution_count": null,
      "outputs": [
        {
          "output_type": "stream",
          "name": "stderr",
          "text": [
            "/usr/local/lib/python3.8/dist-packages/seaborn/_decorators.py:36: FutureWarning: Pass the following variable as a keyword arg: x. From version 0.12, the only valid positional argument will be `data`, and passing other arguments without an explicit keyword will result in an error or misinterpretation.\n",
            "  warnings.warn(\n"
          ]
        },
        {
          "output_type": "execute_result",
          "data": {
            "text/plain": [
              "<matplotlib.axes._subplots.AxesSubplot at 0x7ff162c76670>"
            ]
          },
          "metadata": {},
          "execution_count": 30
        },
        {
          "output_type": "display_data",
          "data": {
            "text/plain": [
              "<Figure size 432x288 with 1 Axes>"
            ],
            "image/png": "[encoded data removed]"
          },
          "metadata": {
            "needs_background": "light"
          }
        }
      ]
    },
    {
      "cell_type": "markdown",
      "source": [
        "**Checking for categorical data**"
      ],
      "metadata": {
        "id": "-uks8kUrj818"
      }
    },
    {
      "cell_type": "code",
      "source": [
        "popularity = [songs['popularity'].values]\n",
        "sns.distplot(popularity)"
      ],
      "metadata": {
        "colab": {
          "base_uri": "https://localhost:8080/",
          "height": 337
        },
        "id": "NvHqHlxTrxIW",
        "outputId": "1670ad47-e99a-43b1-f294-ad4c1c1fdaa0"
      },
      "execution_count": null,
      "outputs": [
        {
          "output_type": "stream",
          "name": "stderr",
          "text": [
            "/usr/local/lib/python3.8/dist-packages/seaborn/distributions.py:2619: FutureWarning: `distplot` is a deprecated function and will be removed in a future version. Please adapt your code to use either `displot` (a figure-level function with similar flexibility) or `histplot` (an axes-level function for histograms).\n",
            "  warnings.warn(msg, FutureWarning)\n"
          ]
        },
        {
          "output_type": "execute_result",
          "data": {
            "text/plain": [
              "<matplotlib.axes._subplots.AxesSubplot at 0x7ff161787ee0>"
            ]
          },
          "metadata": {},
          "execution_count": 31
        },
        {
          "output_type": "display_data",
          "data": {
            "text/plain": [
              "<Figure size 432x288 with 1 Axes>"
            ],
            "image/png": "[encoded data removed]"
          },
          "metadata": {
            "needs_background": "light"
          }
        }
      ]
    },
    {
      "cell_type": "code",
      "source": [
        "length = songs['length'].values\n",
        "sns.distplot(length)"
      ],
      "metadata": {
        "colab": {
          "base_uri": "https://localhost:8080/",
          "height": 348
        },
        "id": "6Mr6-7IBtN7g",
        "outputId": "447634a5-a1f4-4296-859d-af8aea188f1b"
      },
      "execution_count": null,
      "outputs": [
        {
          "output_type": "stream",
          "name": "stderr",
          "text": [
            "/usr/local/lib/python3.8/dist-packages/seaborn/distributions.py:2619: FutureWarning: `distplot` is a deprecated function and will be removed in a future version. Please adapt your code to use either `displot` (a figure-level function with similar flexibility) or `histplot` (an axes-level function for histograms).\n",
            "  warnings.warn(msg, FutureWarning)\n"
          ]
        },
        {
          "output_type": "execute_result",
          "data": {
            "text/plain": [
              "<matplotlib.axes._subplots.AxesSubplot at 0x7ff1616e3700>"
            ]
          },
          "metadata": {},
          "execution_count": 32
        },
        {
          "output_type": "display_data",
          "data": {
            "text/plain": [
              "<Figure size 432x288 with 1 Axes>"
            ],
            "image/png": "[encoded data removed]"
          },
          "metadata": {
            "needs_background": "light"
          }
        }
      ]
    },
    {
      "cell_type": "code",
      "source": [
        "danceability = songs['danceability'].values\n",
        "sns.distplot(danceability)"
      ],
      "metadata": {
        "colab": {
          "base_uri": "https://localhost:8080/",
          "height": 337
        },
        "id": "jrgfh8r7tWlG",
        "outputId": "b0bdb7a4-9535-47e0-91b1-c6106e7ed684"
      },
      "execution_count": null,
      "outputs": [
        {
          "output_type": "stream",
          "name": "stderr",
          "text": [
            "/usr/local/lib/python3.8/dist-packages/seaborn/distributions.py:2619: FutureWarning: `distplot` is a deprecated function and will be removed in a future version. Please adapt your code to use either `displot` (a figure-level function with similar flexibility) or `histplot` (an axes-level function for histograms).\n",
            "  warnings.warn(msg, FutureWarning)\n"
          ]
        },
        {
          "output_type": "execute_result",
          "data": {
            "text/plain": [
              "<matplotlib.axes._subplots.AxesSubplot at 0x7ff15f689070>"
            ]
          },
          "metadata": {},
          "execution_count": 33
        },
        {
          "output_type": "display_data",
          "data": {
            "text/plain": [
              "<Figure size 432x288 with 1 Axes>"
            ],
            "image/png": "[encoded data removed]"
          },
          "metadata": {
            "needs_background": "light"
          }
        }
      ]
    },
    {
      "cell_type": "code",
      "source": [
        "acousticness = songs['acousticness'].values\n",
        "sns.distplot(acousticness)"
      ],
      "metadata": {
        "colab": {
          "base_uri": "https://localhost:8080/",
          "height": 337
        },
        "id": "xymsH_RXt3YH",
        "outputId": "695f8916-8c1d-4e6d-baaa-1c191a3dce20"
      },
      "execution_count": null,
      "outputs": [
        {
          "output_type": "stream",
          "name": "stderr",
          "text": [
            "/usr/local/lib/python3.8/dist-packages/seaborn/distributions.py:2619: FutureWarning: `distplot` is a deprecated function and will be removed in a future version. Please adapt your code to use either `displot` (a figure-level function with similar flexibility) or `histplot` (an axes-level function for histograms).\n",
            "  warnings.warn(msg, FutureWarning)\n"
          ]
        },
        {
          "output_type": "execute_result",
          "data": {
            "text/plain": [
              "<matplotlib.axes._subplots.AxesSubplot at 0x7ff15f6a6ee0>"
            ]
          },
          "metadata": {},
          "execution_count": 34
        },
        {
          "output_type": "display_data",
          "data": {
            "text/plain": [
              "<Figure size 432x288 with 1 Axes>"
            ],
            "image/png": "[encoded data removed]"
          },
          "metadata": {
            "needs_background": "light"
          }
        }
      ]
    },
    {
      "cell_type": "code",
      "source": [
        "energy = songs['energy'].values\n",
        "sns.distplot(energy)"
      ],
      "metadata": {
        "colab": {
          "base_uri": "https://localhost:8080/",
          "height": 337
        },
        "id": "PhoTRiIVt_k5",
        "outputId": "1c8b2ede-8bc8-4473-fa94-a1411dce2322"
      },
      "execution_count": null,
      "outputs": [
        {
          "output_type": "stream",
          "name": "stderr",
          "text": [
            "/usr/local/lib/python3.8/dist-packages/seaborn/distributions.py:2619: FutureWarning: `distplot` is a deprecated function and will be removed in a future version. Please adapt your code to use either `displot` (a figure-level function with similar flexibility) or `histplot` (an axes-level function for histograms).\n",
            "  warnings.warn(msg, FutureWarning)\n"
          ]
        },
        {
          "output_type": "execute_result",
          "data": {
            "text/plain": [
              "<matplotlib.axes._subplots.AxesSubplot at 0x7ff15f614700>"
            ]
          },
          "metadata": {},
          "execution_count": 35
        },
        {
          "output_type": "display_data",
          "data": {
            "text/plain": [
              "<Figure size 432x288 with 1 Axes>"
            ],
            "image/png": "[encoded data removed]"
          },
          "metadata": {
            "needs_background": "light"
          }
        }
      ]
    },
    {
      "cell_type": "code",
      "source": [
        "instrumentalness = songs['instrumentalness'].values\n",
        "sns.distplot(instrumentalness)"
      ],
      "metadata": {
        "colab": {
          "base_uri": "https://localhost:8080/",
          "height": 337
        },
        "id": "H3pvwDTHuG_X",
        "outputId": "8988ac37-3e45-4461-b1b9-4c0a87f5787b"
      },
      "execution_count": null,
      "outputs": [
        {
          "output_type": "stream",
          "name": "stderr",
          "text": [
            "/usr/local/lib/python3.8/dist-packages/seaborn/distributions.py:2619: FutureWarning: `distplot` is a deprecated function and will be removed in a future version. Please adapt your code to use either `displot` (a figure-level function with similar flexibility) or `histplot` (an axes-level function for histograms).\n",
            "  warnings.warn(msg, FutureWarning)\n"
          ]
        },
        {
          "output_type": "execute_result",
          "data": {
            "text/plain": [
              "<matplotlib.axes._subplots.AxesSubplot at 0x7ff15f4f95e0>"
            ]
          },
          "metadata": {},
          "execution_count": 36
        },
        {
          "output_type": "display_data",
          "data": {
            "text/plain": [
              "<Figure size 432x288 with 1 Axes>"
            ],
            "image/png": "[encoded data removed]"
          },
          "metadata": {
            "needs_background": "light"
          }
        }
      ]
    },
    {
      "cell_type": "code",
      "source": [
        "liveness = songs['liveness'].values\n",
        "sns.distplot(liveness)"
      ],
      "metadata": {
        "colab": {
          "base_uri": "https://localhost:8080/",
          "height": 337
        },
        "id": "RLB06EzDuG1H",
        "outputId": "b5bb0f61-aa67-489f-e9f1-c10dfdaae2cf"
      },
      "execution_count": null,
      "outputs": [
        {
          "output_type": "stream",
          "name": "stderr",
          "text": [
            "/usr/local/lib/python3.8/dist-packages/seaborn/distributions.py:2619: FutureWarning: `distplot` is a deprecated function and will be removed in a future version. Please adapt your code to use either `displot` (a figure-level function with similar flexibility) or `histplot` (an axes-level function for histograms).\n",
            "  warnings.warn(msg, FutureWarning)\n"
          ]
        },
        {
          "output_type": "execute_result",
          "data": {
            "text/plain": [
              "<matplotlib.axes._subplots.AxesSubplot at 0x7ff15f4a3520>"
            ]
          },
          "metadata": {},
          "execution_count": 37
        },
        {
          "output_type": "display_data",
          "data": {
            "text/plain": [
              "<Figure size 432x288 with 1 Axes>"
            ],
            "image/png": "[encoded data removed]"
          },
          "metadata": {
            "needs_background": "light"
          }
        }
      ]
    },
    {
      "cell_type": "code",
      "source": [
        "valence = songs['valence'].values\n",
        "sns.distplot(valence)"
      ],
      "metadata": {
        "colab": {
          "base_uri": "https://localhost:8080/",
          "height": 337
        },
        "id": "MmWaPcZpv7LQ",
        "outputId": "66688e90-ab41-4f76-d78c-a9544fb82a98"
      },
      "execution_count": null,
      "outputs": [
        {
          "output_type": "stream",
          "name": "stderr",
          "text": [
            "/usr/local/lib/python3.8/dist-packages/seaborn/distributions.py:2619: FutureWarning: `distplot` is a deprecated function and will be removed in a future version. Please adapt your code to use either `displot` (a figure-level function with similar flexibility) or `histplot` (an axes-level function for histograms).\n",
            "  warnings.warn(msg, FutureWarning)\n"
          ]
        },
        {
          "output_type": "execute_result",
          "data": {
            "text/plain": [
              "<matplotlib.axes._subplots.AxesSubplot at 0x7ff15f444700>"
            ]
          },
          "metadata": {},
          "execution_count": 38
        },
        {
          "output_type": "display_data",
          "data": {
            "text/plain": [
              "<Figure size 432x288 with 1 Axes>"
            ],
            "image/png": "[encoded data removed]"
          },
          "metadata": {
            "needs_background": "light"
          }
        }
      ]
    },
    {
      "cell_type": "code",
      "source": [
        "loudness = songs['loudness'].values\n",
        "sns.distplot(loudness)"
      ],
      "metadata": {
        "colab": {
          "base_uri": "https://localhost:8080/",
          "height": 337
        },
        "id": "YpGEIMhfv9vw",
        "outputId": "8122d97f-1275-4215-b4ee-7f8ee520e1b6"
      },
      "execution_count": null,
      "outputs": [
        {
          "output_type": "stream",
          "name": "stderr",
          "text": [
            "/usr/local/lib/python3.8/dist-packages/seaborn/distributions.py:2619: FutureWarning: `distplot` is a deprecated function and will be removed in a future version. Please adapt your code to use either `displot` (a figure-level function with similar flexibility) or `histplot` (an axes-level function for histograms).\n",
            "  warnings.warn(msg, FutureWarning)\n"
          ]
        },
        {
          "output_type": "execute_result",
          "data": {
            "text/plain": [
              "<matplotlib.axes._subplots.AxesSubplot at 0x7ff15f358dc0>"
            ]
          },
          "metadata": {},
          "execution_count": 39
        },
        {
          "output_type": "display_data",
          "data": {
            "text/plain": [
              "<Figure size 432x288 with 1 Axes>"
            ],
            "image/png": "[encoded data removed]"
          },
          "metadata": {
            "needs_background": "light"
          }
        }
      ]
    },
    {
      "cell_type": "code",
      "source": [
        "speechiness = songs['speechiness'].values\n",
        "sns.distplot(speechiness)"
      ],
      "metadata": {
        "colab": {
          "base_uri": "https://localhost:8080/",
          "height": 337
        },
        "id": "VlrKQ0bgv9EJ",
        "outputId": "9f4618da-3104-4b2d-9b09-4ac815e5acbc"
      },
      "execution_count": null,
      "outputs": [
        {
          "output_type": "stream",
          "name": "stderr",
          "text": [
            "/usr/local/lib/python3.8/dist-packages/seaborn/distributions.py:2619: FutureWarning: `distplot` is a deprecated function and will be removed in a future version. Please adapt your code to use either `displot` (a figure-level function with similar flexibility) or `histplot` (an axes-level function for histograms).\n",
            "  warnings.warn(msg, FutureWarning)\n"
          ]
        },
        {
          "output_type": "execute_result",
          "data": {
            "text/plain": [
              "<matplotlib.axes._subplots.AxesSubplot at 0x7ff15f287250>"
            ]
          },
          "metadata": {},
          "execution_count": 40
        },
        {
          "output_type": "display_data",
          "data": {
            "text/plain": [
              "<Figure size 432x288 with 1 Axes>"
            ],
            "image/png": "[encoded data removed]"
          },
          "metadata": {
            "needs_background": "light"
          }
        }
      ]
    },
    {
      "cell_type": "code",
      "source": [
        "tempo = songs['tempo'].values\n",
        "sns.distplot(tempo)"
      ],
      "metadata": {
        "colab": {
          "base_uri": "https://localhost:8080/",
          "height": 337
        },
        "id": "GeDacltjwQwA",
        "outputId": "4804f9c1-1554-4784-c779-af8159cf22d3"
      },
      "execution_count": null,
      "outputs": [
        {
          "output_type": "stream",
          "name": "stderr",
          "text": [
            "/usr/local/lib/python3.8/dist-packages/seaborn/distributions.py:2619: FutureWarning: `distplot` is a deprecated function and will be removed in a future version. Please adapt your code to use either `displot` (a figure-level function with similar flexibility) or `histplot` (an axes-level function for histograms).\n",
            "  warnings.warn(msg, FutureWarning)\n"
          ]
        },
        {
          "output_type": "execute_result",
          "data": {
            "text/plain": [
              "<matplotlib.axes._subplots.AxesSubplot at 0x7ff15f1cda60>"
            ]
          },
          "metadata": {},
          "execution_count": 41
        },
        {
          "output_type": "display_data",
          "data": {
            "text/plain": [
              "<Figure size 432x288 with 1 Axes>"
            ],
            "image/png": "[encoded data removed]"
          },
          "metadata": {
            "needs_background": "light"
          }
        }
      ]
    },
    {
      "cell_type": "code",
      "source": [
        "key = songs['key'].values\n",
        "sns.distplot(key)"
      ],
      "metadata": {
        "colab": {
          "base_uri": "https://localhost:8080/",
          "height": 337
        },
        "id": "OkIqsiS6wQRa",
        "outputId": "19d9a5e5-03aa-4fc9-ef4a-e626a345d097"
      },
      "execution_count": null,
      "outputs": [
        {
          "output_type": "stream",
          "name": "stderr",
          "text": [
            "/usr/local/lib/python3.8/dist-packages/seaborn/distributions.py:2619: FutureWarning: `distplot` is a deprecated function and will be removed in a future version. Please adapt your code to use either `displot` (a figure-level function with similar flexibility) or `histplot` (an axes-level function for histograms).\n",
            "  warnings.warn(msg, FutureWarning)\n"
          ]
        },
        {
          "output_type": "execute_result",
          "data": {
            "text/plain": [
              "<matplotlib.axes._subplots.AxesSubplot at 0x7ff15f16acd0>"
            ]
          },
          "metadata": {},
          "execution_count": 42
        },
        {
          "output_type": "display_data",
          "data": {
            "text/plain": [
              "<Figure size 432x288 with 1 Axes>"
            ],
            "image/png": "[encoded data removed]"
          },
          "metadata": {
            "needs_background": "light"
          }
        }
      ]
    }
  ]
}